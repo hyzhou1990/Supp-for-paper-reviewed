{
 "cells": [
  {
   "cell_type": "markdown",
   "metadata": {},
   "source": [
    "## Load Packages"
   ]
  },
  {
   "cell_type": "code",
   "execution_count": 1,
   "metadata": {},
   "outputs": [],
   "source": [
    "suppressPackageStartupMessages(suppressWarnings(library('ggplot2')))\n",
    "suppressPackageStartupMessages(suppressWarnings(library('DESeq2')))\n",
    "suppressPackageStartupMessages(suppressWarnings(library('viridis')))"
   ]
  },
  {
   "cell_type": "markdown",
   "metadata": {},
   "source": [
    "## Set work dir"
   ]
  },
  {
   "cell_type": "code",
   "execution_count": 2,
   "metadata": {},
   "outputs": [],
   "source": [
    "setwd('C:/Users/1010/Desktop/Data_ReadsCount/')"
   ]
  },
  {
   "cell_type": "markdown",
   "metadata": {},
   "source": [
    "## Read the expresion matrix"
   ]
  },
  {
   "cell_type": "code",
   "execution_count": 3,
   "metadata": {},
   "outputs": [
    {
     "data": {
      "text/html": [
       "<table class=\"dataframe\">\n",
       "<caption>A data.frame: 6 × 12</caption>\n",
       "<thead>\n",
       "\t<tr><th></th><th scope=col>STM1</th><th scope=col>STM2</th><th scope=col>ST481</th><th scope=col>ST482</th><th scope=col>TSM1</th><th scope=col>TSM2</th><th scope=col>TS481</th><th scope=col>TS482</th><th scope=col>EVTM481</th><th scope=col>EVTM482</th><th scope=col>EVTV481</th><th scope=col>EVTV482</th></tr>\n",
       "\t<tr><th></th><th scope=col>&lt;int&gt;</th><th scope=col>&lt;int&gt;</th><th scope=col>&lt;int&gt;</th><th scope=col>&lt;int&gt;</th><th scope=col>&lt;int&gt;</th><th scope=col>&lt;int&gt;</th><th scope=col>&lt;int&gt;</th><th scope=col>&lt;int&gt;</th><th scope=col>&lt;int&gt;</th><th scope=col>&lt;int&gt;</th><th scope=col>&lt;int&gt;</th><th scope=col>&lt;int&gt;</th></tr>\n",
       "</thead>\n",
       "<tbody>\n",
       "\t<tr><th scope=row>ENSG00000000003</th><td>1406</td><td>1234</td><td>1420</td><td>1312</td><td>1971</td><td>1736</td><td>2077</td><td>1990</td><td>1230</td><td>1235</td><td> 946</td><td>1295</td></tr>\n",
       "\t<tr><th scope=row>ENSG00000000005</th><td>   6</td><td>   0</td><td>   0</td><td>   0</td><td>   0</td><td>   0</td><td>   0</td><td>   0</td><td>   0</td><td>   0</td><td>   0</td><td>   0</td></tr>\n",
       "\t<tr><th scope=row>ENSG00000000419</th><td>3014</td><td>3176</td><td>3296</td><td>3076</td><td>6231</td><td>5550</td><td>2396</td><td>2192</td><td>4085</td><td>4226</td><td>3621</td><td>4545</td></tr>\n",
       "\t<tr><th scope=row>ENSG00000000457</th><td> 611</td><td> 552</td><td> 655</td><td> 599</td><td> 675</td><td> 539</td><td>1568</td><td>1667</td><td> 807</td><td> 813</td><td> 766</td><td> 702</td></tr>\n",
       "\t<tr><th scope=row>ENSG00000000460</th><td> 266</td><td> 334</td><td> 366</td><td> 356</td><td> 856</td><td> 845</td><td>1644</td><td>1713</td><td> 632</td><td> 606</td><td> 496</td><td> 528</td></tr>\n",
       "\t<tr><th scope=row>ENSG00000000938</th><td>   4</td><td>   0</td><td>   8</td><td>   1</td><td>   0</td><td>   1</td><td>  22</td><td>  20</td><td>   4</td><td>   3</td><td>   0</td><td>   4</td></tr>\n",
       "</tbody>\n",
       "</table>\n"
      ],
      "text/latex": [
       "A data.frame: 6 × 12\n",
       "\\begin{tabular}{r|llllllllllll}\n",
       "  & STM1 & STM2 & ST481 & ST482 & TSM1 & TSM2 & TS481 & TS482 & EVTM481 & EVTM482 & EVTV481 & EVTV482\\\\\n",
       "  & <int> & <int> & <int> & <int> & <int> & <int> & <int> & <int> & <int> & <int> & <int> & <int>\\\\\n",
       "\\hline\n",
       "\tENSG00000000003 & 1406 & 1234 & 1420 & 1312 & 1971 & 1736 & 2077 & 1990 & 1230 & 1235 &  946 & 1295\\\\\n",
       "\tENSG00000000005 &    6 &    0 &    0 &    0 &    0 &    0 &    0 &    0 &    0 &    0 &    0 &    0\\\\\n",
       "\tENSG00000000419 & 3014 & 3176 & 3296 & 3076 & 6231 & 5550 & 2396 & 2192 & 4085 & 4226 & 3621 & 4545\\\\\n",
       "\tENSG00000000457 &  611 &  552 &  655 &  599 &  675 &  539 & 1568 & 1667 &  807 &  813 &  766 &  702\\\\\n",
       "\tENSG00000000460 &  266 &  334 &  366 &  356 &  856 &  845 & 1644 & 1713 &  632 &  606 &  496 &  528\\\\\n",
       "\tENSG00000000938 &    4 &    0 &    8 &    1 &    0 &    1 &   22 &   20 &    4 &    3 &    0 &    4\\\\\n",
       "\\end{tabular}\n"
      ],
      "text/markdown": [
       "\n",
       "A data.frame: 6 × 12\n",
       "\n",
       "| <!--/--> | STM1 &lt;int&gt; | STM2 &lt;int&gt; | ST481 &lt;int&gt; | ST482 &lt;int&gt; | TSM1 &lt;int&gt; | TSM2 &lt;int&gt; | TS481 &lt;int&gt; | TS482 &lt;int&gt; | EVTM481 &lt;int&gt; | EVTM482 &lt;int&gt; | EVTV481 &lt;int&gt; | EVTV482 &lt;int&gt; |\n",
       "|---|---|---|---|---|---|---|---|---|---|---|---|---|\n",
       "| ENSG00000000003 | 1406 | 1234 | 1420 | 1312 | 1971 | 1736 | 2077 | 1990 | 1230 | 1235 |  946 | 1295 |\n",
       "| ENSG00000000005 |    6 |    0 |    0 |    0 |    0 |    0 |    0 |    0 |    0 |    0 |    0 |    0 |\n",
       "| ENSG00000000419 | 3014 | 3176 | 3296 | 3076 | 6231 | 5550 | 2396 | 2192 | 4085 | 4226 | 3621 | 4545 |\n",
       "| ENSG00000000457 |  611 |  552 |  655 |  599 |  675 |  539 | 1568 | 1667 |  807 |  813 |  766 |  702 |\n",
       "| ENSG00000000460 |  266 |  334 |  366 |  356 |  856 |  845 | 1644 | 1713 |  632 |  606 |  496 |  528 |\n",
       "| ENSG00000000938 |    4 |    0 |    8 |    1 |    0 |    1 |   22 |   20 |    4 |    3 |    0 |    4 |\n",
       "\n"
      ],
      "text/plain": [
       "                STM1 STM2 ST481 ST482 TSM1 TSM2 TS481 TS482 EVTM481 EVTM482\n",
       "ENSG00000000003 1406 1234 1420  1312  1971 1736 2077  1990  1230    1235   \n",
       "ENSG00000000005    6    0    0     0     0    0    0     0     0       0   \n",
       "ENSG00000000419 3014 3176 3296  3076  6231 5550 2396  2192  4085    4226   \n",
       "ENSG00000000457  611  552  655   599   675  539 1568  1667   807     813   \n",
       "ENSG00000000460  266  334  366   356   856  845 1644  1713   632     606   \n",
       "ENSG00000000938    4    0    8     1     0    1   22    20     4       3   \n",
       "                EVTV481 EVTV482\n",
       "ENSG00000000003  946    1295   \n",
       "ENSG00000000005    0       0   \n",
       "ENSG00000000419 3621    4545   \n",
       "ENSG00000000457  766     702   \n",
       "ENSG00000000460  496     528   \n",
       "ENSG00000000938    0       4   "
      ]
     },
     "metadata": {},
     "output_type": "display_data"
    }
   ],
   "source": [
    "readcount <- read.csv('readcount.csv')\n",
    "rownames(readcount) <- readcount$X\n",
    "readcount <- readcount[,-1]\n",
    "head(readcount)"
   ]
  },
  {
   "cell_type": "markdown",
   "metadata": {},
   "source": [
    "## Counstruct the analysis matrix"
   ]
  },
  {
   "cell_type": "code",
   "execution_count": 4,
   "metadata": {},
   "outputs": [
    {
     "data": {
      "text/html": [
       "<table class=\"dataframe\">\n",
       "<caption>A data.frame: 12 × 1</caption>\n",
       "<thead>\n",
       "\t<tr><th></th><th scope=col>condition</th></tr>\n",
       "\t<tr><th></th><th scope=col>&lt;fct&gt;</th></tr>\n",
       "</thead>\n",
       "<tbody>\n",
       "\t<tr><th scope=row>STM1</th><td>STM   </td></tr>\n",
       "\t<tr><th scope=row>STM2</th><td>STM   </td></tr>\n",
       "\t<tr><th scope=row>ST481</th><td>ST48  </td></tr>\n",
       "\t<tr><th scope=row>ST482</th><td>ST48  </td></tr>\n",
       "\t<tr><th scope=row>TSM1</th><td>TSM   </td></tr>\n",
       "\t<tr><th scope=row>TSM2</th><td>TSM   </td></tr>\n",
       "\t<tr><th scope=row>TS481</th><td>TS48  </td></tr>\n",
       "\t<tr><th scope=row>TS482</th><td>TS48  </td></tr>\n",
       "\t<tr><th scope=row>EVTM481</th><td>EVTM  </td></tr>\n",
       "\t<tr><th scope=row>EVTM482</th><td>EVTM  </td></tr>\n",
       "\t<tr><th scope=row>EVTV481</th><td>EVTV48</td></tr>\n",
       "\t<tr><th scope=row>EVTV482</th><td>EVTV48</td></tr>\n",
       "</tbody>\n",
       "</table>\n"
      ],
      "text/latex": [
       "A data.frame: 12 × 1\n",
       "\\begin{tabular}{r|l}\n",
       "  & condition\\\\\n",
       "  & <fct>\\\\\n",
       "\\hline\n",
       "\tSTM1 & STM   \\\\\n",
       "\tSTM2 & STM   \\\\\n",
       "\tST481 & ST48  \\\\\n",
       "\tST482 & ST48  \\\\\n",
       "\tTSM1 & TSM   \\\\\n",
       "\tTSM2 & TSM   \\\\\n",
       "\tTS481 & TS48  \\\\\n",
       "\tTS482 & TS48  \\\\\n",
       "\tEVTM481 & EVTM  \\\\\n",
       "\tEVTM482 & EVTM  \\\\\n",
       "\tEVTV481 & EVTV48\\\\\n",
       "\tEVTV482 & EVTV48\\\\\n",
       "\\end{tabular}\n"
      ],
      "text/markdown": [
       "\n",
       "A data.frame: 12 × 1\n",
       "\n",
       "| <!--/--> | condition &lt;fct&gt; |\n",
       "|---|---|\n",
       "| STM1 | STM    |\n",
       "| STM2 | STM    |\n",
       "| ST481 | ST48   |\n",
       "| ST482 | ST48   |\n",
       "| TSM1 | TSM    |\n",
       "| TSM2 | TSM    |\n",
       "| TS481 | TS48   |\n",
       "| TS482 | TS48   |\n",
       "| EVTM481 | EVTM   |\n",
       "| EVTM482 | EVTM   |\n",
       "| EVTV481 | EVTV48 |\n",
       "| EVTV482 | EVTV48 |\n",
       "\n"
      ],
      "text/plain": [
       "        condition\n",
       "STM1    STM      \n",
       "STM2    STM      \n",
       "ST481   ST48     \n",
       "ST482   ST48     \n",
       "TSM1    TSM      \n",
       "TSM2    TSM      \n",
       "TS481   TS48     \n",
       "TS482   TS48     \n",
       "EVTM481 EVTM     \n",
       "EVTM482 EVTM     \n",
       "EVTV481 EVTV48   \n",
       "EVTV482 EVTV48   "
      ]
     },
     "metadata": {},
     "output_type": "display_data"
    }
   ],
   "source": [
    "mycounts <- readcount\n",
    "\n",
    "condition <- factor(c(rep(\"STM\",2),rep(\"ST48\",2),rep(\"TSM\",2),rep(\"TS48\",2),rep(\"EVTM\",2),rep(\"EVTV48\",2)), \n",
    "                    levels = c(\"STM\",\"ST48\",\"TSM\",\"TS48\",\"EVTM\",\"EVTV48\"))\n",
    "colData <- data.frame(row.names=colnames(mycounts), condition)\n",
    "colData"
   ]
  },
  {
   "cell_type": "markdown",
   "metadata": {},
   "source": [
    "## Analysis DEG"
   ]
  },
  {
   "cell_type": "code",
   "execution_count": 5,
   "metadata": {},
   "outputs": [
    {
     "name": "stderr",
     "output_type": "stream",
     "text": [
      "estimating size factors\n",
      "\n",
      "estimating dispersions\n",
      "\n",
      "gene-wise dispersion estimates\n",
      "\n",
      "mean-dispersion relationship\n",
      "\n",
      "final dispersion estimates\n",
      "\n",
      "fitting model and testing\n",
      "\n"
     ]
    },
    {
     "data": {
      "text/plain": [
       "class: DESeqDataSet \n",
       "dim: 60649 12 \n",
       "metadata(1): version\n",
       "assays(4): counts mu H cooks\n",
       "rownames(60649): ENSG00000000003 ENSG00000000005 ... ENSG00000288724\n",
       "  ENSG00000288725\n",
       "rowData names(38): baseMean baseVar ... deviance maxCooks\n",
       "colnames(12): STM1 STM2 ... EVTV481 EVTV482\n",
       "colData names(2): condition sizeFactor"
      ]
     },
     "metadata": {},
     "output_type": "display_data"
    }
   ],
   "source": [
    "dds_new <- DESeqDataSetFromMatrix(mycounts, colData, design= ~ condition)\n",
    "dds_new <- DESeq(dds_new)\n",
    "dds_new"
   ]
  },
  {
   "cell_type": "markdown",
   "metadata": {},
   "source": [
    "## PCA plot"
   ]
  },
  {
   "cell_type": "code",
   "execution_count": 6,
   "metadata": {},
   "outputs": [
    {
     "data": {
      "image/png": "[encoded data removed]",
      "text/plain": [
       "plot without title"
      ]
     },
     "metadata": {
      "image/png": {
       "height": 420,
       "width": 420
      }
     },
     "output_type": "display_data"
    }
   ],
   "source": [
    "vsdata <- vst(dds_new, blind=FALSE)\n",
    "p <- plotPCA(vsdata, intgroup=\"condition\") + scale_color_viridis(discrete = TRUE)\n",
    "p "
   ]
  }
 ],
 "metadata": {
  "kernelspec": {
   "display_name": "R",
   "language": "R",
   "name": "ir"
  },
  "language_info": {
   "codemirror_mode": "r",
   "file_extension": ".r",
   "mimetype": "text/x-r-source",
   "name": "R",
   "pygments_lexer": "r",
   "version": "4.2.2"
  }
 },
 "nbformat": 4,
 "nbformat_minor": 4
}
