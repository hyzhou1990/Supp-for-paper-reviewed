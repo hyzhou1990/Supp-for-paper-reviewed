{
 "cells": [
  {
   "cell_type": "markdown",
   "metadata": {},
   "source": [
    "## Load packages"
   ]
  },
  {
   "cell_type": "code",
   "execution_count": 1,
   "metadata": {},
   "outputs": [],
   "source": [
    "suppressPackageStartupMessages(suppressWarnings(library('ggVennDiagram')))\n",
    "suppressPackageStartupMessages(suppressWarnings(library('clusterProfiler')))\n",
    "suppressPackageStartupMessages(suppressWarnings(library('pheatmap')))\n",
    "suppressPackageStartupMessages(suppressWarnings(library('patchwork')))\n",
    "suppressPackageStartupMessages(suppressWarnings(library('viridis')))\n",
    "suppressPackageStartupMessages(suppressWarnings(library('limma')))\n",
    "suppressPackageStartupMessages(suppressWarnings(library('ggplot2')))"
   ]
  },
  {
   "cell_type": "markdown",
   "metadata": {},
   "source": [
    "## Set work directory"
   ]
  },
  {
   "cell_type": "code",
   "execution_count": 2,
   "metadata": {},
   "outputs": [],
   "source": [
    "setwd('C:/Users/1010/Desktop/Data_ReadsCount/')"
   ]
  },
  {
   "cell_type": "markdown",
   "metadata": {},
   "source": [
    "## Read matrix file"
   ]
  },
  {
   "cell_type": "code",
   "execution_count": 3,
   "metadata": {},
   "outputs": [
    {
     "data": {
      "text/html": [
       "<table class=\"dataframe\">\n",
       "<caption>A data.frame: 6 × 6</caption>\n",
       "<thead>\n",
       "\t<tr><th></th><th scope=col>TSM1_TPM</th><th scope=col>TSM2_TPM</th><th scope=col>STB48M1_TPM</th><th scope=col>STB48M2_TPM</th><th scope=col>EVT48M1_TPM</th><th scope=col>EVT48M2_TPM</th></tr>\n",
       "\t<tr><th></th><th scope=col>&lt;dbl&gt;</th><th scope=col>&lt;dbl&gt;</th><th scope=col>&lt;dbl&gt;</th><th scope=col>&lt;dbl&gt;</th><th scope=col>&lt;dbl&gt;</th><th scope=col>&lt;dbl&gt;</th></tr>\n",
       "</thead>\n",
       "<tbody>\n",
       "\t<tr><th scope=row>ENSG00000000003</th><td>24.136363</td><td>23.65776130</td><td>12.27902448</td><td>10.257407</td><td>18.27916172</td><td>18.5644194</td></tr>\n",
       "\t<tr><th scope=row>ENSG00000000005</th><td> 0.000000</td><td> 0.00000000</td><td> 0.15657900</td><td> 0.000000</td><td> 0.00000000</td><td> 0.0000000</td></tr>\n",
       "\t<tr><th scope=row>ENSG00000000419</th><td>38.624121</td><td>39.64715069</td><td>14.01878309</td><td>13.589263</td><td>31.26456354</td><td>33.5576604</td></tr>\n",
       "\t<tr><th scope=row>ENSG00000000457</th><td> 5.980368</td><td> 5.51402275</td><td> 3.99566492</td><td> 3.369493</td><td> 8.47834680</td><td> 8.5401876</td></tr>\n",
       "\t<tr><th scope=row>ENSG00000000460</th><td> 8.273944</td><td> 9.42440293</td><td> 1.96140768</td><td> 2.386031</td><td> 7.78179443</td><td> 7.1264078</td></tr>\n",
       "\t<tr><th scope=row>ENSG00000000938</th><td> 0.000000</td><td> 0.03281305</td><td> 0.04555699</td><td> 0.000000</td><td> 0.07485907</td><td> 0.1116544</td></tr>\n",
       "</tbody>\n",
       "</table>\n"
      ],
      "text/latex": [
       "A data.frame: 6 × 6\n",
       "\\begin{tabular}{r|llllll}\n",
       "  & TSM1\\_TPM & TSM2\\_TPM & STB48M1\\_TPM & STB48M2\\_TPM & EVT48M1\\_TPM & EVT48M2\\_TPM\\\\\n",
       "  & <dbl> & <dbl> & <dbl> & <dbl> & <dbl> & <dbl>\\\\\n",
       "\\hline\n",
       "\tENSG00000000003 & 24.136363 & 23.65776130 & 12.27902448 & 10.257407 & 18.27916172 & 18.5644194\\\\\n",
       "\tENSG00000000005 &  0.000000 &  0.00000000 &  0.15657900 &  0.000000 &  0.00000000 &  0.0000000\\\\\n",
       "\tENSG00000000419 & 38.624121 & 39.64715069 & 14.01878309 & 13.589263 & 31.26456354 & 33.5576604\\\\\n",
       "\tENSG00000000457 &  5.980368 &  5.51402275 &  3.99566492 &  3.369493 &  8.47834680 &  8.5401876\\\\\n",
       "\tENSG00000000460 &  8.273944 &  9.42440293 &  1.96140768 &  2.386031 &  7.78179443 &  7.1264078\\\\\n",
       "\tENSG00000000938 &  0.000000 &  0.03281305 &  0.04555699 &  0.000000 &  0.07485907 &  0.1116544\\\\\n",
       "\\end{tabular}\n"
      ],
      "text/markdown": [
       "\n",
       "A data.frame: 6 × 6\n",
       "\n",
       "| <!--/--> | TSM1_TPM &lt;dbl&gt; | TSM2_TPM &lt;dbl&gt; | STB48M1_TPM &lt;dbl&gt; | STB48M2_TPM &lt;dbl&gt; | EVT48M1_TPM &lt;dbl&gt; | EVT48M2_TPM &lt;dbl&gt; |\n",
       "|---|---|---|---|---|---|---|\n",
       "| ENSG00000000003 | 24.136363 | 23.65776130 | 12.27902448 | 10.257407 | 18.27916172 | 18.5644194 |\n",
       "| ENSG00000000005 |  0.000000 |  0.00000000 |  0.15657900 |  0.000000 |  0.00000000 |  0.0000000 |\n",
       "| ENSG00000000419 | 38.624121 | 39.64715069 | 14.01878309 | 13.589263 | 31.26456354 | 33.5576604 |\n",
       "| ENSG00000000457 |  5.980368 |  5.51402275 |  3.99566492 |  3.369493 |  8.47834680 |  8.5401876 |\n",
       "| ENSG00000000460 |  8.273944 |  9.42440293 |  1.96140768 |  2.386031 |  7.78179443 |  7.1264078 |\n",
       "| ENSG00000000938 |  0.000000 |  0.03281305 |  0.04555699 |  0.000000 |  0.07485907 |  0.1116544 |\n",
       "\n"
      ],
      "text/plain": [
       "                TSM1_TPM  TSM2_TPM    STB48M1_TPM STB48M2_TPM EVT48M1_TPM\n",
       "ENSG00000000003 24.136363 23.65776130 12.27902448 10.257407   18.27916172\n",
       "ENSG00000000005  0.000000  0.00000000  0.15657900  0.000000    0.00000000\n",
       "ENSG00000000419 38.624121 39.64715069 14.01878309 13.589263   31.26456354\n",
       "ENSG00000000457  5.980368  5.51402275  3.99566492  3.369493    8.47834680\n",
       "ENSG00000000460  8.273944  9.42440293  1.96140768  2.386031    7.78179443\n",
       "ENSG00000000938  0.000000  0.03281305  0.04555699  0.000000    0.07485907\n",
       "                EVT48M2_TPM\n",
       "ENSG00000000003 18.5644194 \n",
       "ENSG00000000005  0.0000000 \n",
       "ENSG00000000419 33.5576604 \n",
       "ENSG00000000457  8.5401876 \n",
       "ENSG00000000460  7.1264078 \n",
       "ENSG00000000938  0.1116544 "
      ]
     },
     "metadata": {},
     "output_type": "display_data"
    }
   ],
   "source": [
    "raw_count_filt_tpm <- read.csv('raw_mock_matrix.csv')\n",
    "rownames(raw_count_filt_tpm) <- raw_count_filt_tpm$X\n",
    "raw_count_filt_tpm <- raw_count_filt_tpm[,-1]\n",
    "head(raw_count_filt_tpm)"
   ]
  },
  {
   "cell_type": "markdown",
   "metadata": {},
   "source": [
    "## Filtered the all zero row and scale TPM with log(TPM+1)"
   ]
  },
  {
   "cell_type": "code",
   "execution_count": 4,
   "metadata": {},
   "outputs": [
    {
     "data": {
      "text/html": [
       "<table class=\"dataframe\">\n",
       "<caption>A data.frame: 6 × 6</caption>\n",
       "<thead>\n",
       "\t<tr><th></th><th scope=col>TSM1_TPM</th><th scope=col>TSM2_TPM</th><th scope=col>STB48M1_TPM</th><th scope=col>STB48M2_TPM</th><th scope=col>EVT48M1_TPM</th><th scope=col>EVT48M2_TPM</th></tr>\n",
       "\t<tr><th></th><th scope=col>&lt;dbl&gt;</th><th scope=col>&lt;dbl&gt;</th><th scope=col>&lt;dbl&gt;</th><th scope=col>&lt;dbl&gt;</th><th scope=col>&lt;dbl&gt;</th><th scope=col>&lt;dbl&gt;</th></tr>\n",
       "</thead>\n",
       "<tbody>\n",
       "\t<tr><th scope=row>ENSG00000000003</th><td>4.651704</td><td>4.62396992</td><td>3.7310773</td><td>3.492803</td><td>4.2689704</td><td>4.2901604</td></tr>\n",
       "\t<tr><th scope=row>ENSG00000000005</th><td>0.000000</td><td>0.00000000</td><td>0.2098638</td><td>0.000000</td><td>0.0000000</td><td>0.0000000</td></tr>\n",
       "\t<tr><th scope=row>ENSG00000000419</th><td>5.308307</td><td>5.34508232</td><td>3.9086960</td><td>3.866835</td><td>5.0118786</td><td>5.1109336</td></tr>\n",
       "\t<tr><th scope=row>ENSG00000000457</th><td>2.803303</td><td>2.70354876</td><td>2.3206767</td><td>2.127466</td><td>3.2446354</td><td>3.2540176</td></tr>\n",
       "\t<tr><th scope=row>ENSG00000000460</th><td>3.213183</td><td>3.38189285</td><td>1.5662831</td><td>1.759595</td><td>3.1345158</td><td>3.0226178</td></tr>\n",
       "\t<tr><th scope=row>ENSG00000000938</th><td>0.000000</td><td>0.04657914</td><td>0.0642717</td><td>0.000000</td><td>0.1041475</td><td>0.1527084</td></tr>\n",
       "</tbody>\n",
       "</table>\n"
      ],
      "text/latex": [
       "A data.frame: 6 × 6\n",
       "\\begin{tabular}{r|llllll}\n",
       "  & TSM1\\_TPM & TSM2\\_TPM & STB48M1\\_TPM & STB48M2\\_TPM & EVT48M1\\_TPM & EVT48M2\\_TPM\\\\\n",
       "  & <dbl> & <dbl> & <dbl> & <dbl> & <dbl> & <dbl>\\\\\n",
       "\\hline\n",
       "\tENSG00000000003 & 4.651704 & 4.62396992 & 3.7310773 & 3.492803 & 4.2689704 & 4.2901604\\\\\n",
       "\tENSG00000000005 & 0.000000 & 0.00000000 & 0.2098638 & 0.000000 & 0.0000000 & 0.0000000\\\\\n",
       "\tENSG00000000419 & 5.308307 & 5.34508232 & 3.9086960 & 3.866835 & 5.0118786 & 5.1109336\\\\\n",
       "\tENSG00000000457 & 2.803303 & 2.70354876 & 2.3206767 & 2.127466 & 3.2446354 & 3.2540176\\\\\n",
       "\tENSG00000000460 & 3.213183 & 3.38189285 & 1.5662831 & 1.759595 & 3.1345158 & 3.0226178\\\\\n",
       "\tENSG00000000938 & 0.000000 & 0.04657914 & 0.0642717 & 0.000000 & 0.1041475 & 0.1527084\\\\\n",
       "\\end{tabular}\n"
      ],
      "text/markdown": [
       "\n",
       "A data.frame: 6 × 6\n",
       "\n",
       "| <!--/--> | TSM1_TPM &lt;dbl&gt; | TSM2_TPM &lt;dbl&gt; | STB48M1_TPM &lt;dbl&gt; | STB48M2_TPM &lt;dbl&gt; | EVT48M1_TPM &lt;dbl&gt; | EVT48M2_TPM &lt;dbl&gt; |\n",
       "|---|---|---|---|---|---|---|\n",
       "| ENSG00000000003 | 4.651704 | 4.62396992 | 3.7310773 | 3.492803 | 4.2689704 | 4.2901604 |\n",
       "| ENSG00000000005 | 0.000000 | 0.00000000 | 0.2098638 | 0.000000 | 0.0000000 | 0.0000000 |\n",
       "| ENSG00000000419 | 5.308307 | 5.34508232 | 3.9086960 | 3.866835 | 5.0118786 | 5.1109336 |\n",
       "| ENSG00000000457 | 2.803303 | 2.70354876 | 2.3206767 | 2.127466 | 3.2446354 | 3.2540176 |\n",
       "| ENSG00000000460 | 3.213183 | 3.38189285 | 1.5662831 | 1.759595 | 3.1345158 | 3.0226178 |\n",
       "| ENSG00000000938 | 0.000000 | 0.04657914 | 0.0642717 | 0.000000 | 0.1041475 | 0.1527084 |\n",
       "\n"
      ],
      "text/plain": [
       "                TSM1_TPM TSM2_TPM   STB48M1_TPM STB48M2_TPM EVT48M1_TPM\n",
       "ENSG00000000003 4.651704 4.62396992 3.7310773   3.492803    4.2689704  \n",
       "ENSG00000000005 0.000000 0.00000000 0.2098638   0.000000    0.0000000  \n",
       "ENSG00000000419 5.308307 5.34508232 3.9086960   3.866835    5.0118786  \n",
       "ENSG00000000457 2.803303 2.70354876 2.3206767   2.127466    3.2446354  \n",
       "ENSG00000000460 3.213183 3.38189285 1.5662831   1.759595    3.1345158  \n",
       "ENSG00000000938 0.000000 0.04657914 0.0642717   0.000000    0.1041475  \n",
       "                EVT48M2_TPM\n",
       "ENSG00000000003 4.2901604  \n",
       "ENSG00000000005 0.0000000  \n",
       "ENSG00000000419 5.1109336  \n",
       "ENSG00000000457 3.2540176  \n",
       "ENSG00000000460 3.0226178  \n",
       "ENSG00000000938 0.1527084  "
      ]
     },
     "metadata": {},
     "output_type": "display_data"
    }
   ],
   "source": [
    "raw_count_filt_tpm<-raw_count_filt_tpm[which(rowSums(raw_count_filt_tpm) > 0),]\n",
    "raw_count_filt_tpm<-log2(raw_count_filt_tpm+1)\n",
    "head(raw_count_filt_tpm)"
   ]
  },
  {
   "cell_type": "markdown",
   "metadata": {},
   "source": [
    "## Convert all the gene name from ENSEMBL to SYMBOL"
   ]
  },
  {
   "cell_type": "code",
   "execution_count": 5,
   "metadata": {
    "scrolled": true
   },
   "outputs": [
    {
     "name": "stderr",
     "output_type": "stream",
     "text": [
      "\n",
      "\n",
      "'select()' returned 1:many mapping between keys and columns\n",
      "\n",
      "Warning message in bitr(rownames(raw_count_filt_tpm), fromType = \"ENSEMBL\", toType = \"SYMBOL\", :\n",
      "\"34.55% of input gene IDs are fail to map...\"\n"
     ]
    },
    {
     "data": {
      "text/html": [
       "<table class=\"dataframe\">\n",
       "<caption>A data.frame: 6 × 6</caption>\n",
       "<thead>\n",
       "\t<tr><th></th><th scope=col>TSM1_TPM</th><th scope=col>TSM2_TPM</th><th scope=col>STB48M1_TPM</th><th scope=col>STB48M2_TPM</th><th scope=col>EVT48M1_TPM</th><th scope=col>EVT48M2_TPM</th></tr>\n",
       "\t<tr><th></th><th scope=col>&lt;chr&gt;</th><th scope=col>&lt;chr&gt;</th><th scope=col>&lt;chr&gt;</th><th scope=col>&lt;chr&gt;</th><th scope=col>&lt;chr&gt;</th><th scope=col>&lt;chr&gt;</th></tr>\n",
       "</thead>\n",
       "<tbody>\n",
       "\t<tr><th scope=row>TSPAN6</th><td> 4.651704014</td><td> 4.623969917</td><td> 3.731077260</td><td>3.492803e+00</td><td> 4.268970418</td><td> 4.290160390</td></tr>\n",
       "\t<tr><th scope=row>TNMD</th><td> 0.000000000</td><td> 0.000000000</td><td> 0.209863811</td><td>0.000000e+00</td><td> 0.000000000</td><td> 0.000000000</td></tr>\n",
       "\t<tr><th scope=row>DPM1</th><td> 5.308307016</td><td> 5.345082320</td><td> 3.908696017</td><td>3.866835e+00</td><td> 5.011878604</td><td> 5.110933645</td></tr>\n",
       "\t<tr><th scope=row>SCYL3</th><td> 2.803303008</td><td> 2.703548759</td><td> 2.320676711</td><td>2.127466e+00</td><td> 3.244635447</td><td> 3.254017633</td></tr>\n",
       "\t<tr><th scope=row>C1orf112</th><td> 3.213182971</td><td> 3.381892849</td><td> 1.566283110</td><td>1.759595e+00</td><td> 3.134515764</td><td> 3.022617756</td></tr>\n",
       "\t<tr><th scope=row>FGR</th><td> 0.000000000</td><td> 0.046579136</td><td> 0.064271698</td><td>0.000000e+00</td><td> 0.104147511</td><td> 0.152708378</td></tr>\n",
       "</tbody>\n",
       "</table>\n"
      ],
      "text/latex": [
       "A data.frame: 6 × 6\n",
       "\\begin{tabular}{r|llllll}\n",
       "  & TSM1\\_TPM & TSM2\\_TPM & STB48M1\\_TPM & STB48M2\\_TPM & EVT48M1\\_TPM & EVT48M2\\_TPM\\\\\n",
       "  & <chr> & <chr> & <chr> & <chr> & <chr> & <chr>\\\\\n",
       "\\hline\n",
       "\tTSPAN6 &  4.651704014 &  4.623969917 &  3.731077260 & 3.492803e+00 &  4.268970418 &  4.290160390\\\\\n",
       "\tTNMD &  0.000000000 &  0.000000000 &  0.209863811 & 0.000000e+00 &  0.000000000 &  0.000000000\\\\\n",
       "\tDPM1 &  5.308307016 &  5.345082320 &  3.908696017 & 3.866835e+00 &  5.011878604 &  5.110933645\\\\\n",
       "\tSCYL3 &  2.803303008 &  2.703548759 &  2.320676711 & 2.127466e+00 &  3.244635447 &  3.254017633\\\\\n",
       "\tC1orf112 &  3.213182971 &  3.381892849 &  1.566283110 & 1.759595e+00 &  3.134515764 &  3.022617756\\\\\n",
       "\tFGR &  0.000000000 &  0.046579136 &  0.064271698 & 0.000000e+00 &  0.104147511 &  0.152708378\\\\\n",
       "\\end{tabular}\n"
      ],
      "text/markdown": [
       "\n",
       "A data.frame: 6 × 6\n",
       "\n",
       "| <!--/--> | TSM1_TPM &lt;chr&gt; | TSM2_TPM &lt;chr&gt; | STB48M1_TPM &lt;chr&gt; | STB48M2_TPM &lt;chr&gt; | EVT48M1_TPM &lt;chr&gt; | EVT48M2_TPM &lt;chr&gt; |\n",
       "|---|---|---|---|---|---|---|\n",
       "| TSPAN6 |  4.651704014 |  4.623969917 |  3.731077260 | 3.492803e+00 |  4.268970418 |  4.290160390 |\n",
       "| TNMD |  0.000000000 |  0.000000000 |  0.209863811 | 0.000000e+00 |  0.000000000 |  0.000000000 |\n",
       "| DPM1 |  5.308307016 |  5.345082320 |  3.908696017 | 3.866835e+00 |  5.011878604 |  5.110933645 |\n",
       "| SCYL3 |  2.803303008 |  2.703548759 |  2.320676711 | 2.127466e+00 |  3.244635447 |  3.254017633 |\n",
       "| C1orf112 |  3.213182971 |  3.381892849 |  1.566283110 | 1.759595e+00 |  3.134515764 |  3.022617756 |\n",
       "| FGR |  0.000000000 |  0.046579136 |  0.064271698 | 0.000000e+00 |  0.104147511 |  0.152708378 |\n",
       "\n"
      ],
      "text/plain": [
       "         TSM1_TPM     TSM2_TPM     STB48M1_TPM  STB48M2_TPM  EVT48M1_TPM \n",
       "TSPAN6    4.651704014  4.623969917  3.731077260 3.492803e+00  4.268970418\n",
       "TNMD      0.000000000  0.000000000  0.209863811 0.000000e+00  0.000000000\n",
       "DPM1      5.308307016  5.345082320  3.908696017 3.866835e+00  5.011878604\n",
       "SCYL3     2.803303008  2.703548759  2.320676711 2.127466e+00  3.244635447\n",
       "C1orf112  3.213182971  3.381892849  1.566283110 1.759595e+00  3.134515764\n",
       "FGR       0.000000000  0.046579136  0.064271698 0.000000e+00  0.104147511\n",
       "         EVT48M2_TPM \n",
       "TSPAN6    4.290160390\n",
       "TNMD      0.000000000\n",
       "DPM1      5.110933645\n",
       "SCYL3     3.254017633\n",
       "C1orf112  3.022617756\n",
       "FGR       0.152708378"
      ]
     },
     "metadata": {},
     "output_type": "display_data"
    }
   ],
   "source": [
    "SymbolList <- bitr(rownames(raw_count_filt_tpm),fromType = 'ENSEMBL', toType = 'SYMBOL','org.Hs.eg.db',drop=F)\n",
    "raw_count_filt_tpm$ENSEMBL <- rownames(raw_count_filt_tpm)\n",
    "SymbolMatrix <- merge(raw_count_filt_tpm,SymbolList,by='ENSEMBL')     \n",
    "SymbolMatrix <- avereps(SymbolMatrix[,-length(rownames(SymbolMatrix))],ID=SymbolMatrix$SYMBOL)\n",
    "SymbolMatrix <- as.data.frame(SymbolMatrix,stringsAsFactors = FALSE)\n",
    "# length(SymbolMatrix)\n",
    "SymbolMatrix <- na.omit(SymbolMatrix)\n",
    "rownames(SymbolMatrix) <- SymbolMatrix$SYMBOL\n",
    "# head(SymbolMatrix)\n",
    "SymbolMatrix <- SymbolMatrix[,-length(colnames(SymbolMatrix))]\n",
    "SymbolMatrix <- SymbolMatrix[,-1]\n",
    "# SymbolMatrix$Symbol <- rownames(SymbolMatrix)\n",
    "head(SymbolMatrix)\n",
    "SymbolMatrixNu<-apply(SymbolMatrix,2,as.numeric)\n",
    "SymbolMatrixNu<-as.data.frame(SymbolMatrixNu)\n",
    "rownames(SymbolMatrixNu) <- rownames(SymbolMatrix)"
   ]
  },
  {
   "cell_type": "markdown",
   "metadata": {},
   "source": [
    "## Rank all genes with TPM"
   ]
  },
  {
   "cell_type": "code",
   "execution_count": 6,
   "metadata": {},
   "outputs": [],
   "source": [
    "takeOrderList <- function(a){\n",
    "   orderlist <- rownames(SymbolMatrixNu[order(a,decreasing = T),])\n",
    "}\n",
    "\n",
    "rankList <- function(a){\n",
    "  selectgene <- a[1:as.integer(length(a)*1)]\n",
    "}\n",
    "\n",
    "combineGeneList <- function(a){\n",
    "  union(geneCollection,a)\n",
    "}\n",
    "\n",
    "test<-apply(SymbolMatrixNu,2,takeOrderList)\n",
    "ranktest <- apply(test,2,rankList)\n",
    "ranktest <- as.data.frame(ranktest)\n",
    "geneCollection = vector()\n",
    "Genelist <- union(union(union(union(union(ranktest$TSM1_TPM,ranktest$TSM2_TPM),ranktest$STB48M1_TPM),\n",
    "                        ranktest$STB48M2_TPM),\n",
    "                  ranktest$EVT48M1_TPM),\n",
    "                  ranktest$EVT48M2_TPM)\n"
   ]
  },
  {
   "cell_type": "markdown",
   "metadata": {},
   "source": [
    "## Read the ISG genes"
   ]
  },
  {
   "cell_type": "code",
   "execution_count": 7,
   "metadata": {},
   "outputs": [],
   "source": [
    "selectlist <- read.csv('filtered_list.csv',header = F)$V1"
   ]
  },
  {
   "cell_type": "markdown",
   "metadata": {},
   "source": [
    "## Find the intersect genes between ISG genes and all gene"
   ]
  },
  {
   "cell_type": "code",
   "execution_count": 8,
   "metadata": {},
   "outputs": [
    {
     "data": {
      "image/png": "[encoded data removed]",
      "text/plain": [
       "plot without title"
      ]
     },
     "metadata": {
      "image/png": {
       "height": 420,
       "width": 420
      }
     },
     "output_type": "display_data"
    }
   ],
   "source": [
    "expList <- intersect(Genelist,selectlist)\n",
    "\n",
    "plotMatrix <- SymbolMatrixNu[na.omit(match(expList,rownames(SymbolMatrixNu))),]\n",
    "p <- pheatmap(plotMatrix, scale = 'none',show_rownames = T,cluster_cols = T, cluster_rows = T, color = colorRampPalette(c(\"Navy\", \"white\", \"Firebrick3\"))(50))\n",
    "mat_cluster <- plotMatrix[p$tree_row$order,p$tree_col$order]\n",
    "\n",
    "mat_scale <- round(t(apply(plotMatrix, 1, scale)),2)\n",
    "colnames(mat_scale) <- colnames(plotMatrix)\n",
    "mat_cluster_scale <- as.data.frame(mat_scale)[p$tree_row$order, p$tree_col$order]\n",
    "\n",
    "# head(mat_cluster)"
   ]
  },
  {
   "cell_type": "code",
   "execution_count": 9,
   "metadata": {},
   "outputs": [
    {
     "data": {
      "text/html": [
       "<style>\n",
       ".list-inline {list-style: none; margin:0; padding: 0}\n",
       ".list-inline>li {display: inline-block}\n",
       ".list-inline>li:not(:last-child)::after {content: \"\\00b7\"; padding: 0 .5ex}\n",
       "</style>\n",
       "<ol class=list-inline><li>354</li><li>6</li></ol>\n"
      ],
      "text/latex": [
       "\\begin{enumerate*}\n",
       "\\item 354\n",
       "\\item 6\n",
       "\\end{enumerate*}\n"
      ],
      "text/markdown": [
       "1. 354\n",
       "2. 6\n",
       "\n",
       "\n"
      ],
      "text/plain": [
       "[1] 354   6"
      ]
     },
     "metadata": {},
     "output_type": "display_data"
    }
   ],
   "source": [
    "dim(mat_cluster)"
   ]
  },
  {
   "cell_type": "markdown",
   "metadata": {},
   "source": [
    "## Judged by the expression level of marker gene HLA-G, TPM > 53 was set as a criterion to evaluate the intrinsic expression level of ISGs in hTSC-derived trophoblast cells"
   ]
  },
  {
   "cell_type": "code",
   "execution_count": 10,
   "metadata": {},
   "outputs": [],
   "source": [
    "TSMExpressJudge <- rownames(subset(plotMatrix,TSM1_TPM>log2(53)|TSM2_TPM>log2(53)))\n",
    "STBExpressJudge <- rownames(subset(plotMatrix,STB48M1_TPM>log2(53)|STB48M2_TPM>log2(53)))\n",
    "EVTExpressJudge <- rownames(subset(plotMatrix,EVT48M1_TPM>log2(53)|EVT48M1_TPM>log2(53)))"
   ]
  },
  {
   "cell_type": "markdown",
   "metadata": {},
   "source": [
    "## Calculate the overlapping set of intrinsically highly expressed ISGs in hTSCs and hTSC-derived STBTS and EVTTS"
   ]
  },
  {
   "cell_type": "code",
   "execution_count": 11,
   "metadata": {},
   "outputs": [
    {
     "data": {
      "image/png": "[encoded data removed]",
      "text/plain": [
       "plot without title"
      ]
     },
     "metadata": {
      "image/png": {
       "height": 420,
       "width": 420
      }
     },
     "output_type": "display_data"
    }
   ],
   "source": [
    "intersectAll <- intersect(intersect(TSMExpressJudge,STBExpressJudge),EVTExpressJudge)\n",
    "intersectSTBEVT <- intersect(STBExpressJudge,EVTExpressJudge)\n",
    "intersectTSMEVT <- intersect(TSMExpressJudge,EVTExpressJudge)\n",
    "intersectTSMSTB <- intersect(TSMExpressJudge,STBExpressJudge)\n",
    "\n",
    "library(ggVennDiagram)\n",
    "library(ggplot2)\n",
    "library(patchwork)\n",
    "library(viridis)\n",
    "# plotList <- list(\"TSM\"=HighExpressTSM,\"STB\"=HighExpressSTB,\"EVT\"=HighExpressEVT)\n",
    "plotList <- list(\"TSM\"=TSMExpressJudge,\"STB\"=STBExpressJudge,\"EVT\"=EVTExpressJudge)\n",
    "p <- ggVennDiagram(plotList,label = c('both'))\n",
    "p\n",
    "\n",
    "write.csv(TSMExpressJudge,'HighExpressTSM.csv')\n",
    "write.csv(STBExpressJudge,'HighExpressSTB.csv')\n",
    "write.csv(EVTExpressJudge,'HighExpressEVT.csv')\n",
    "# write.csv(intersectAll,'intersectAll.csv')\n",
    "# write.csv(intersectSTBEVT,'intersectSTBEVT.csv')\n",
    "# write.csv(intersectTSMEVT,'intersectTSMEVT.csv')\n",
    "# write.csv(intersectTSMSTB,'intersectTSMSTB.csv')\n"
   ]
  },
  {
   "cell_type": "markdown",
   "metadata": {},
   "source": [
    "## Plot heatmap of the high expressed genes"
   ]
  },
  {
   "cell_type": "code",
   "execution_count": 14,
   "metadata": {},
   "outputs": [],
   "source": [
    "genelist <- read.csv('genelist.csv',header = F)$V1"
   ]
  },
  {
   "cell_type": "code",
   "execution_count": 15,
   "metadata": {},
   "outputs": [
    {
     "data": {
      "image/png": "[encoded data removed]",
      "text/plain": [
       "plot without title"
      ]
     },
     "metadata": {
      "image/png": {
       "height": 420,
       "width": 420
      }
     },
     "output_type": "display_data"
    }
   ],
   "source": [
    "mat_cluster <- mat_cluster[,c(5,6,1,2,3,4)]\n",
    "IDOrder <- read.csv('genelist.csv',header = F)$V1\n",
    "plotOrder <- mat_cluster[match(IDOrder,rownames(mat_cluster)),]\n",
    "p <- pheatmap(plotOrder, scale = 'none',show_rownames = T,cluster_cols = F, cluster_rows = F, color = colorRampPalette(c(\"Navy\", \"white\", \"Firebrick3\"))(50),gaps_row = 38)\n"
   ]
  },
  {
   "cell_type": "code",
   "execution_count": null,
   "metadata": {},
   "outputs": [],
   "source": []
  }
 ],
 "metadata": {
  "kernelspec": {
   "display_name": "R",
   "language": "R",
   "name": "ir"
  },
  "language_info": {
   "codemirror_mode": "r",
   "file_extension": ".r",
   "mimetype": "text/x-r-source",
   "name": "R",
   "pygments_lexer": "r",
   "version": "4.2.2"
  }
 },
 "nbformat": 4,
 "nbformat_minor": 4
}
