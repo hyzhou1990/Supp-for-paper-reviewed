{
 "cells": [
  {
   "cell_type": "markdown",
   "metadata": {},
   "source": [
    "## Load Packages"
   ]
  },
  {
   "cell_type": "code",
   "execution_count": 1,
   "metadata": {},
   "outputs": [],
   "source": [
    "suppressPackageStartupMessages(suppressWarnings(library('ggplot2')))\n",
    "suppressPackageStartupMessages(suppressWarnings(library('DESeq2')))\n",
    "suppressPackageStartupMessages(suppressWarnings(library('viridis')))\n",
    "suppressPackageStartupMessages(suppressWarnings(library('clusterProfiler')))\n",
    "suppressPackageStartupMessages(suppressWarnings(library('limma')))\n",
    "suppressPackageStartupMessages(suppressWarnings(library('ggVennDiagram')))\n",
    "suppressPackageStartupMessages(suppressWarnings(library('pheatmap')))"
   ]
  },
  {
   "cell_type": "markdown",
   "metadata": {},
   "source": [
    "## Set work dir"
   ]
  },
  {
   "cell_type": "code",
   "execution_count": 2,
   "metadata": {},
   "outputs": [],
   "source": [
    "setwd('C:/Users/1010/Desktop/Data_ReadsCount/')"
   ]
  },
  {
   "cell_type": "markdown",
   "metadata": {},
   "source": [
    "## Read the expresion matrix"
   ]
  },
  {
   "cell_type": "code",
   "execution_count": 3,
   "metadata": {},
   "outputs": [
    {
     "data": {
      "text/html": [
       "<table class=\"dataframe\">\n",
       "<caption>A data.frame: 6 × 12</caption>\n",
       "<thead>\n",
       "\t<tr><th></th><th scope=col>STM1</th><th scope=col>STM2</th><th scope=col>ST481</th><th scope=col>ST482</th><th scope=col>TSM1</th><th scope=col>TSM2</th><th scope=col>TS481</th><th scope=col>TS482</th><th scope=col>EVTM481</th><th scope=col>EVTM482</th><th scope=col>EVTV481</th><th scope=col>EVTV482</th></tr>\n",
       "\t<tr><th></th><th scope=col>&lt;int&gt;</th><th scope=col>&lt;int&gt;</th><th scope=col>&lt;int&gt;</th><th scope=col>&lt;int&gt;</th><th scope=col>&lt;int&gt;</th><th scope=col>&lt;int&gt;</th><th scope=col>&lt;int&gt;</th><th scope=col>&lt;int&gt;</th><th scope=col>&lt;int&gt;</th><th scope=col>&lt;int&gt;</th><th scope=col>&lt;int&gt;</th><th scope=col>&lt;int&gt;</th></tr>\n",
       "</thead>\n",
       "<tbody>\n",
       "\t<tr><th scope=row>ENSG00000000003</th><td>1406</td><td>1234</td><td>1420</td><td>1312</td><td>1971</td><td>1736</td><td>2077</td><td>1990</td><td>1230</td><td>1235</td><td> 946</td><td>1295</td></tr>\n",
       "\t<tr><th scope=row>ENSG00000000005</th><td>   6</td><td>   0</td><td>   0</td><td>   0</td><td>   0</td><td>   0</td><td>   0</td><td>   0</td><td>   0</td><td>   0</td><td>   0</td><td>   0</td></tr>\n",
       "\t<tr><th scope=row>ENSG00000000419</th><td>3014</td><td>3176</td><td>3296</td><td>3076</td><td>6231</td><td>5550</td><td>2396</td><td>2192</td><td>4085</td><td>4226</td><td>3621</td><td>4545</td></tr>\n",
       "\t<tr><th scope=row>ENSG00000000457</th><td> 611</td><td> 552</td><td> 655</td><td> 599</td><td> 675</td><td> 539</td><td>1568</td><td>1667</td><td> 807</td><td> 813</td><td> 766</td><td> 702</td></tr>\n",
       "\t<tr><th scope=row>ENSG00000000460</th><td> 266</td><td> 334</td><td> 366</td><td> 356</td><td> 856</td><td> 845</td><td>1644</td><td>1713</td><td> 632</td><td> 606</td><td> 496</td><td> 528</td></tr>\n",
       "\t<tr><th scope=row>ENSG00000000938</th><td>   4</td><td>   0</td><td>   8</td><td>   1</td><td>   0</td><td>   1</td><td>  22</td><td>  20</td><td>   4</td><td>   3</td><td>   0</td><td>   4</td></tr>\n",
       "</tbody>\n",
       "</table>\n"
      ],
      "text/latex": [
       "A data.frame: 6 × 12\n",
       "\\begin{tabular}{r|llllllllllll}\n",
       "  & STM1 & STM2 & ST481 & ST482 & TSM1 & TSM2 & TS481 & TS482 & EVTM481 & EVTM482 & EVTV481 & EVTV482\\\\\n",
       "  & <int> & <int> & <int> & <int> & <int> & <int> & <int> & <int> & <int> & <int> & <int> & <int>\\\\\n",
       "\\hline\n",
       "\tENSG00000000003 & 1406 & 1234 & 1420 & 1312 & 1971 & 1736 & 2077 & 1990 & 1230 & 1235 &  946 & 1295\\\\\n",
       "\tENSG00000000005 &    6 &    0 &    0 &    0 &    0 &    0 &    0 &    0 &    0 &    0 &    0 &    0\\\\\n",
       "\tENSG00000000419 & 3014 & 3176 & 3296 & 3076 & 6231 & 5550 & 2396 & 2192 & 4085 & 4226 & 3621 & 4545\\\\\n",
       "\tENSG00000000457 &  611 &  552 &  655 &  599 &  675 &  539 & 1568 & 1667 &  807 &  813 &  766 &  702\\\\\n",
       "\tENSG00000000460 &  266 &  334 &  366 &  356 &  856 &  845 & 1644 & 1713 &  632 &  606 &  496 &  528\\\\\n",
       "\tENSG00000000938 &    4 &    0 &    8 &    1 &    0 &    1 &   22 &   20 &    4 &    3 &    0 &    4\\\\\n",
       "\\end{tabular}\n"
      ],
      "text/markdown": [
       "\n",
       "A data.frame: 6 × 12\n",
       "\n",
       "| <!--/--> | STM1 &lt;int&gt; | STM2 &lt;int&gt; | ST481 &lt;int&gt; | ST482 &lt;int&gt; | TSM1 &lt;int&gt; | TSM2 &lt;int&gt; | TS481 &lt;int&gt; | TS482 &lt;int&gt; | EVTM481 &lt;int&gt; | EVTM482 &lt;int&gt; | EVTV481 &lt;int&gt; | EVTV482 &lt;int&gt; |\n",
       "|---|---|---|---|---|---|---|---|---|---|---|---|---|\n",
       "| ENSG00000000003 | 1406 | 1234 | 1420 | 1312 | 1971 | 1736 | 2077 | 1990 | 1230 | 1235 |  946 | 1295 |\n",
       "| ENSG00000000005 |    6 |    0 |    0 |    0 |    0 |    0 |    0 |    0 |    0 |    0 |    0 |    0 |\n",
       "| ENSG00000000419 | 3014 | 3176 | 3296 | 3076 | 6231 | 5550 | 2396 | 2192 | 4085 | 4226 | 3621 | 4545 |\n",
       "| ENSG00000000457 |  611 |  552 |  655 |  599 |  675 |  539 | 1568 | 1667 |  807 |  813 |  766 |  702 |\n",
       "| ENSG00000000460 |  266 |  334 |  366 |  356 |  856 |  845 | 1644 | 1713 |  632 |  606 |  496 |  528 |\n",
       "| ENSG00000000938 |    4 |    0 |    8 |    1 |    0 |    1 |   22 |   20 |    4 |    3 |    0 |    4 |\n",
       "\n"
      ],
      "text/plain": [
       "                STM1 STM2 ST481 ST482 TSM1 TSM2 TS481 TS482 EVTM481 EVTM482\n",
       "ENSG00000000003 1406 1234 1420  1312  1971 1736 2077  1990  1230    1235   \n",
       "ENSG00000000005    6    0    0     0     0    0    0     0     0       0   \n",
       "ENSG00000000419 3014 3176 3296  3076  6231 5550 2396  2192  4085    4226   \n",
       "ENSG00000000457  611  552  655   599   675  539 1568  1667   807     813   \n",
       "ENSG00000000460  266  334  366   356   856  845 1644  1713   632     606   \n",
       "ENSG00000000938    4    0    8     1     0    1   22    20     4       3   \n",
       "                EVTV481 EVTV482\n",
       "ENSG00000000003  946    1295   \n",
       "ENSG00000000005    0       0   \n",
       "ENSG00000000419 3621    4545   \n",
       "ENSG00000000457  766     702   \n",
       "ENSG00000000460  496     528   \n",
       "ENSG00000000938    0       4   "
      ]
     },
     "metadata": {},
     "output_type": "display_data"
    },
    {
     "name": "stderr",
     "output_type": "stream",
     "text": [
      "\n",
      "\n",
      "'select()' returned 1:many mapping between keys and columns\n",
      "\n",
      "Warning message in bitr(rownames(readcount), fromType = \"ENSEMBL\", toType = \"SYMBOL\", :\n",
      "\"40.11% of input gene IDs are fail to map...\"\n"
     ]
    },
    {
     "data": {
      "text/html": [
       "<table class=\"dataframe\">\n",
       "<caption>A data.frame: 6 × 12</caption>\n",
       "<thead>\n",
       "\t<tr><th></th><th scope=col>STM1</th><th scope=col>STM2</th><th scope=col>ST481</th><th scope=col>ST482</th><th scope=col>TSM1</th><th scope=col>TSM2</th><th scope=col>TS481</th><th scope=col>TS482</th><th scope=col>EVTM481</th><th scope=col>EVTM482</th><th scope=col>EVTV481</th><th scope=col>EVTV482</th></tr>\n",
       "\t<tr><th></th><th scope=col>&lt;chr&gt;</th><th scope=col>&lt;chr&gt;</th><th scope=col>&lt;chr&gt;</th><th scope=col>&lt;chr&gt;</th><th scope=col>&lt;chr&gt;</th><th scope=col>&lt;chr&gt;</th><th scope=col>&lt;chr&gt;</th><th scope=col>&lt;chr&gt;</th><th scope=col>&lt;chr&gt;</th><th scope=col>&lt;chr&gt;</th><th scope=col>&lt;chr&gt;</th><th scope=col>&lt;chr&gt;</th></tr>\n",
       "</thead>\n",
       "<tbody>\n",
       "\t<tr><th scope=row>TSPAN6</th><td>   1406</td><td>   1234</td><td>   1420</td><td>   1312</td><td>  1971</td><td>  1736</td><td>  2077</td><td>  1990</td><td>  1230</td><td>  1235</td><td>   946</td><td>  1295</td></tr>\n",
       "\t<tr><th scope=row>TNMD</th><td>      6</td><td>      0</td><td>      0</td><td>      0</td><td>     0</td><td>     0</td><td>     0</td><td>     0</td><td>     0</td><td>     0</td><td>     0</td><td>     0</td></tr>\n",
       "\t<tr><th scope=row>DPM1</th><td>   3014</td><td>   3176</td><td>   3296</td><td>   3076</td><td>  6231</td><td>  5550</td><td>  2396</td><td>  2192</td><td>  4085</td><td>  4226</td><td>  3621</td><td>  4545</td></tr>\n",
       "\t<tr><th scope=row>SCYL3</th><td>    611</td><td>    552</td><td>    655</td><td>    599</td><td>   675</td><td>   539</td><td>  1568</td><td>  1667</td><td>   807</td><td>   813</td><td>   766</td><td>   702</td></tr>\n",
       "\t<tr><th scope=row>C1orf112</th><td>    266</td><td>    334</td><td>    366</td><td>    356</td><td>   856</td><td>   845</td><td>  1644</td><td>  1713</td><td>   632</td><td>   606</td><td>   496</td><td>   528</td></tr>\n",
       "\t<tr><th scope=row>FGR</th><td>      4</td><td>      0</td><td>      8</td><td>      1</td><td>     0</td><td>     1</td><td>    22</td><td>    20</td><td>     4</td><td>     3</td><td>     0</td><td>     4</td></tr>\n",
       "</tbody>\n",
       "</table>\n"
      ],
      "text/latex": [
       "A data.frame: 6 × 12\n",
       "\\begin{tabular}{r|llllllllllll}\n",
       "  & STM1 & STM2 & ST481 & ST482 & TSM1 & TSM2 & TS481 & TS482 & EVTM481 & EVTM482 & EVTV481 & EVTV482\\\\\n",
       "  & <chr> & <chr> & <chr> & <chr> & <chr> & <chr> & <chr> & <chr> & <chr> & <chr> & <chr> & <chr>\\\\\n",
       "\\hline\n",
       "\tTSPAN6 &    1406 &    1234 &    1420 &    1312 &   1971 &   1736 &   2077 &   1990 &   1230 &   1235 &    946 &   1295\\\\\n",
       "\tTNMD &       6 &       0 &       0 &       0 &      0 &      0 &      0 &      0 &      0 &      0 &      0 &      0\\\\\n",
       "\tDPM1 &    3014 &    3176 &    3296 &    3076 &   6231 &   5550 &   2396 &   2192 &   4085 &   4226 &   3621 &   4545\\\\\n",
       "\tSCYL3 &     611 &     552 &     655 &     599 &    675 &    539 &   1568 &   1667 &    807 &    813 &    766 &    702\\\\\n",
       "\tC1orf112 &     266 &     334 &     366 &     356 &    856 &    845 &   1644 &   1713 &    632 &    606 &    496 &    528\\\\\n",
       "\tFGR &       4 &       0 &       8 &       1 &      0 &      1 &     22 &     20 &      4 &      3 &      0 &      4\\\\\n",
       "\\end{tabular}\n"
      ],
      "text/markdown": [
       "\n",
       "A data.frame: 6 × 12\n",
       "\n",
       "| <!--/--> | STM1 &lt;chr&gt; | STM2 &lt;chr&gt; | ST481 &lt;chr&gt; | ST482 &lt;chr&gt; | TSM1 &lt;chr&gt; | TSM2 &lt;chr&gt; | TS481 &lt;chr&gt; | TS482 &lt;chr&gt; | EVTM481 &lt;chr&gt; | EVTM482 &lt;chr&gt; | EVTV481 &lt;chr&gt; | EVTV482 &lt;chr&gt; |\n",
       "|---|---|---|---|---|---|---|---|---|---|---|---|---|\n",
       "| TSPAN6 |    1406 |    1234 |    1420 |    1312 |   1971 |   1736 |   2077 |   1990 |   1230 |   1235 |    946 |   1295 |\n",
       "| TNMD |       6 |       0 |       0 |       0 |      0 |      0 |      0 |      0 |      0 |      0 |      0 |      0 |\n",
       "| DPM1 |    3014 |    3176 |    3296 |    3076 |   6231 |   5550 |   2396 |   2192 |   4085 |   4226 |   3621 |   4545 |\n",
       "| SCYL3 |     611 |     552 |     655 |     599 |    675 |    539 |   1568 |   1667 |    807 |    813 |    766 |    702 |\n",
       "| C1orf112 |     266 |     334 |     366 |     356 |    856 |    845 |   1644 |   1713 |    632 |    606 |    496 |    528 |\n",
       "| FGR |       4 |       0 |       8 |       1 |      0 |      1 |     22 |     20 |      4 |      3 |      0 |      4 |\n",
       "\n"
      ],
      "text/plain": [
       "         STM1    STM2    ST481   ST482   TSM1   TSM2   TS481  TS482  EVTM481\n",
       "TSPAN6      1406    1234    1420    1312   1971   1736   2077   1990   1230 \n",
       "TNMD           6       0       0       0      0      0      0      0      0 \n",
       "DPM1        3014    3176    3296    3076   6231   5550   2396   2192   4085 \n",
       "SCYL3        611     552     655     599    675    539   1568   1667    807 \n",
       "C1orf112     266     334     366     356    856    845   1644   1713    632 \n",
       "FGR            4       0       8       1      0      1     22     20      4 \n",
       "         EVTM482 EVTV481 EVTV482\n",
       "TSPAN6     1235     946    1295 \n",
       "TNMD          0       0       0 \n",
       "DPM1       4226    3621    4545 \n",
       "SCYL3       813     766     702 \n",
       "C1orf112    606     496     528 \n",
       "FGR           3       0       4 "
      ]
     },
     "metadata": {},
     "output_type": "display_data"
    }
   ],
   "source": [
    "readcount <- read.csv('readcount.csv')\n",
    "rownames(readcount) <- readcount$X\n",
    "readcount <- readcount[,-1]\n",
    "head(readcount)\n",
    "SymbolList <- bitr(rownames(readcount),fromType = 'ENSEMBL', toType = 'SYMBOL','org.Hs.eg.db',drop=F)\n",
    "readcount$ENSEMBL <- rownames(readcount)\n",
    "SymbolMatrix <- merge(readcount,SymbolList,by='ENSEMBL')     \n",
    "SymbolMatrix <- avereps(SymbolMatrix[,-length(rownames(SymbolMatrix))],ID=SymbolMatrix$SYMBOL)\n",
    "SymbolMatrix <- as.data.frame(SymbolMatrix,stringsAsFactors = FALSE)\n",
    "# length(SymbolMatrix)\n",
    "SymbolMatrix <- na.omit(SymbolMatrix)\n",
    "rownames(SymbolMatrix) <- SymbolMatrix$SYMBOL\n",
    "# head(SymbolMatrix)\n",
    "SymbolMatrix <- SymbolMatrix[,-length(colnames(SymbolMatrix))]\n",
    "SymbolMatrix <- SymbolMatrix[,-1]\n",
    "# SymbolMatrix$Symbol <- rownames(SymbolMatrix)\n",
    "head(SymbolMatrix)\n",
    "SymbolMatrixNu<-apply(SymbolMatrix,2,as.numeric)\n",
    "SymbolMatrixNu<-as.data.frame(SymbolMatrixNu)\n",
    "rownames(SymbolMatrixNu) <- rownames(SymbolMatrix)"
   ]
  },
  {
   "cell_type": "markdown",
   "metadata": {},
   "source": [
    "## Counstruct the analysis matrix"
   ]
  },
  {
   "cell_type": "code",
   "execution_count": 4,
   "metadata": {},
   "outputs": [
    {
     "data": {
      "text/html": [
       "<table class=\"dataframe\">\n",
       "<caption>A data.frame: 12 × 1</caption>\n",
       "<thead>\n",
       "\t<tr><th></th><th scope=col>condition</th></tr>\n",
       "\t<tr><th></th><th scope=col>&lt;fct&gt;</th></tr>\n",
       "</thead>\n",
       "<tbody>\n",
       "\t<tr><th scope=row>STM1</th><td>STM   </td></tr>\n",
       "\t<tr><th scope=row>STM2</th><td>STM   </td></tr>\n",
       "\t<tr><th scope=row>ST481</th><td>ST48  </td></tr>\n",
       "\t<tr><th scope=row>ST482</th><td>ST48  </td></tr>\n",
       "\t<tr><th scope=row>TSM1</th><td>TSM   </td></tr>\n",
       "\t<tr><th scope=row>TSM2</th><td>TSM   </td></tr>\n",
       "\t<tr><th scope=row>TS481</th><td>TS48  </td></tr>\n",
       "\t<tr><th scope=row>TS482</th><td>TS48  </td></tr>\n",
       "\t<tr><th scope=row>EVTM481</th><td>EVTM  </td></tr>\n",
       "\t<tr><th scope=row>EVTM482</th><td>EVTM  </td></tr>\n",
       "\t<tr><th scope=row>EVTV481</th><td>EVTV48</td></tr>\n",
       "\t<tr><th scope=row>EVTV482</th><td>EVTV48</td></tr>\n",
       "</tbody>\n",
       "</table>\n"
      ],
      "text/latex": [
       "A data.frame: 12 × 1\n",
       "\\begin{tabular}{r|l}\n",
       "  & condition\\\\\n",
       "  & <fct>\\\\\n",
       "\\hline\n",
       "\tSTM1 & STM   \\\\\n",
       "\tSTM2 & STM   \\\\\n",
       "\tST481 & ST48  \\\\\n",
       "\tST482 & ST48  \\\\\n",
       "\tTSM1 & TSM   \\\\\n",
       "\tTSM2 & TSM   \\\\\n",
       "\tTS481 & TS48  \\\\\n",
       "\tTS482 & TS48  \\\\\n",
       "\tEVTM481 & EVTM  \\\\\n",
       "\tEVTM482 & EVTM  \\\\\n",
       "\tEVTV481 & EVTV48\\\\\n",
       "\tEVTV482 & EVTV48\\\\\n",
       "\\end{tabular}\n"
      ],
      "text/markdown": [
       "\n",
       "A data.frame: 12 × 1\n",
       "\n",
       "| <!--/--> | condition &lt;fct&gt; |\n",
       "|---|---|\n",
       "| STM1 | STM    |\n",
       "| STM2 | STM    |\n",
       "| ST481 | ST48   |\n",
       "| ST482 | ST48   |\n",
       "| TSM1 | TSM    |\n",
       "| TSM2 | TSM    |\n",
       "| TS481 | TS48   |\n",
       "| TS482 | TS48   |\n",
       "| EVTM481 | EVTM   |\n",
       "| EVTM482 | EVTM   |\n",
       "| EVTV481 | EVTV48 |\n",
       "| EVTV482 | EVTV48 |\n",
       "\n"
      ],
      "text/plain": [
       "        condition\n",
       "STM1    STM      \n",
       "STM2    STM      \n",
       "ST481   ST48     \n",
       "ST482   ST48     \n",
       "TSM1    TSM      \n",
       "TSM2    TSM      \n",
       "TS481   TS48     \n",
       "TS482   TS48     \n",
       "EVTM481 EVTM     \n",
       "EVTM482 EVTM     \n",
       "EVTV481 EVTV48   \n",
       "EVTV482 EVTV48   "
      ]
     },
     "metadata": {},
     "output_type": "display_data"
    }
   ],
   "source": [
    "mycounts <- SymbolMatrixNu\n",
    "\n",
    "condition <- factor(c(rep(\"STM\",2),rep(\"ST48\",2),rep(\"TSM\",2),rep(\"TS48\",2),rep(\"EVTM\",2),rep(\"EVTV48\",2)), \n",
    "                    levels = c(\"STM\",\"ST48\",\"TSM\",\"TS48\",\"EVTM\",\"EVTV48\"))\n",
    "colData <- data.frame(row.names=colnames(mycounts), condition)\n",
    "colData"
   ]
  },
  {
   "cell_type": "markdown",
   "metadata": {},
   "source": [
    "## Analysis DEG"
   ]
  },
  {
   "cell_type": "code",
   "execution_count": 5,
   "metadata": {},
   "outputs": [
    {
     "name": "stderr",
     "output_type": "stream",
     "text": [
      "converting counts to integer mode\n",
      "\n",
      "estimating size factors\n",
      "\n",
      "estimating dispersions\n",
      "\n",
      "gene-wise dispersion estimates\n",
      "\n",
      "mean-dispersion relationship\n",
      "\n",
      "final dispersion estimates\n",
      "\n",
      "fitting model and testing\n",
      "\n"
     ]
    },
    {
     "data": {
      "text/plain": [
       "class: DESeqDataSet \n",
       "dim: 36431 12 \n",
       "metadata(1): version\n",
       "assays(4): counts mu H cooks\n",
       "rownames(36431): TSPAN6 TNMD ... LOC105377063 F8A1\n",
       "rowData names(38): baseMean baseVar ... deviance maxCooks\n",
       "colnames(12): STM1 STM2 ... EVTV481 EVTV482\n",
       "colData names(2): condition sizeFactor"
      ]
     },
     "metadata": {},
     "output_type": "display_data"
    }
   ],
   "source": [
    "dds_new <- DESeqDataSetFromMatrix(mycounts, colData, design= ~ condition)\n",
    "dds_new <- DESeq(dds_new)\n",
    "dds_new"
   ]
  },
  {
   "cell_type": "markdown",
   "metadata": {},
   "source": [
    "## Set samples for analysis"
   ]
  },
  {
   "cell_type": "code",
   "execution_count": 6,
   "metadata": {},
   "outputs": [],
   "source": [
    "control <- 'TSM'\n",
    "analysis_samples <- c(\"TS48\")\n",
    "\n",
    "# control <- 'STM'\n",
    "# analysis_samples <- c(\"ST48\")\n",
    "\n",
    "# control <- 'EVTM'\n",
    "# analysis_samples <- c(\"EVTV48\")"
   ]
  },
  {
   "cell_type": "markdown",
   "metadata": {},
   "source": [
    "## Find different expression genes"
   ]
  },
  {
   "cell_type": "code",
   "execution_count": 7,
   "metadata": {
    "scrolled": true
   },
   "outputs": [
    {
     "data": {
      "text/html": [
       "<style>\n",
       ".list-inline {list-style: none; margin:0; padding: 0}\n",
       ".list-inline>li {display: inline-block}\n",
       ".list-inline>li:not(:last-child)::after {content: \"\\00b7\"; padding: 0 .5ex}\n",
       "</style>\n",
       "<ol class=list-inline><li>'APOBEC3G'</li><li>'APOL1'</li><li>'APOL6'</li><li>'ATF3'</li><li>'BST2'</li><li>'CSRNP1'</li><li>'DDIT4'</li><li>'DDX60'</li><li>'DTX3L'</li><li>'EPSTI1'</li><li>'FUT4'</li><li>'GBP3'</li><li>'GEM'</li><li>'HEG1'</li><li>'HELZ2'</li><li>'HSH2D'</li><li>'IFI35'</li><li>'IFIH1'</li><li>'IFIT1'</li><li>'IFIT2'</li><li>'IFIT3'</li><li>'IFITM1'</li><li>'IFNLR1'</li><li>'IL15'</li><li>'IRF1'</li><li>'IRF2'</li><li>'ISG15'</li><li>'ISG20'</li><li>'JUNB'</li><li>'LAMP3'</li><li>'MAFF'</li><li>'MAP3K14'</li><li>'MARCKS'</li><li>'MX1'</li><li>'MX2'</li><li>'NOS2'</li><li>'NPAS2'</li><li>'OAS1'</li><li>'OAS2'</li><li>'OAS3'</li><li>'OASL'</li><li>'P2RY6'</li><li>'PARP12'</li><li>'PLSCR1'</li><li>'RNF213'</li><li>'RSAD2'</li><li>'SERPINE1'</li><li>'SLC15A3'</li><li>'SP110'</li><li>'STEAP4'</li><li>'TNFAIP3'</li><li>'TNFSF10'</li><li>'USP18'</li></ol>\n"
      ],
      "text/latex": [
       "\\begin{enumerate*}\n",
       "\\item 'APOBEC3G'\n",
       "\\item 'APOL1'\n",
       "\\item 'APOL6'\n",
       "\\item 'ATF3'\n",
       "\\item 'BST2'\n",
       "\\item 'CSRNP1'\n",
       "\\item 'DDIT4'\n",
       "\\item 'DDX60'\n",
       "\\item 'DTX3L'\n",
       "\\item 'EPSTI1'\n",
       "\\item 'FUT4'\n",
       "\\item 'GBP3'\n",
       "\\item 'GEM'\n",
       "\\item 'HEG1'\n",
       "\\item 'HELZ2'\n",
       "\\item 'HSH2D'\n",
       "\\item 'IFI35'\n",
       "\\item 'IFIH1'\n",
       "\\item 'IFIT1'\n",
       "\\item 'IFIT2'\n",
       "\\item 'IFIT3'\n",
       "\\item 'IFITM1'\n",
       "\\item 'IFNLR1'\n",
       "\\item 'IL15'\n",
       "\\item 'IRF1'\n",
       "\\item 'IRF2'\n",
       "\\item 'ISG15'\n",
       "\\item 'ISG20'\n",
       "\\item 'JUNB'\n",
       "\\item 'LAMP3'\n",
       "\\item 'MAFF'\n",
       "\\item 'MAP3K14'\n",
       "\\item 'MARCKS'\n",
       "\\item 'MX1'\n",
       "\\item 'MX2'\n",
       "\\item 'NOS2'\n",
       "\\item 'NPAS2'\n",
       "\\item 'OAS1'\n",
       "\\item 'OAS2'\n",
       "\\item 'OAS3'\n",
       "\\item 'OASL'\n",
       "\\item 'P2RY6'\n",
       "\\item 'PARP12'\n",
       "\\item 'PLSCR1'\n",
       "\\item 'RNF213'\n",
       "\\item 'RSAD2'\n",
       "\\item 'SERPINE1'\n",
       "\\item 'SLC15A3'\n",
       "\\item 'SP110'\n",
       "\\item 'STEAP4'\n",
       "\\item 'TNFAIP3'\n",
       "\\item 'TNFSF10'\n",
       "\\item 'USP18'\n",
       "\\end{enumerate*}\n"
      ],
      "text/markdown": [
       "1. 'APOBEC3G'\n",
       "2. 'APOL1'\n",
       "3. 'APOL6'\n",
       "4. 'ATF3'\n",
       "5. 'BST2'\n",
       "6. 'CSRNP1'\n",
       "7. 'DDIT4'\n",
       "8. 'DDX60'\n",
       "9. 'DTX3L'\n",
       "10. 'EPSTI1'\n",
       "11. 'FUT4'\n",
       "12. 'GBP3'\n",
       "13. 'GEM'\n",
       "14. 'HEG1'\n",
       "15. 'HELZ2'\n",
       "16. 'HSH2D'\n",
       "17. 'IFI35'\n",
       "18. 'IFIH1'\n",
       "19. 'IFIT1'\n",
       "20. 'IFIT2'\n",
       "21. 'IFIT3'\n",
       "22. 'IFITM1'\n",
       "23. 'IFNLR1'\n",
       "24. 'IL15'\n",
       "25. 'IRF1'\n",
       "26. 'IRF2'\n",
       "27. 'ISG15'\n",
       "28. 'ISG20'\n",
       "29. 'JUNB'\n",
       "30. 'LAMP3'\n",
       "31. 'MAFF'\n",
       "32. 'MAP3K14'\n",
       "33. 'MARCKS'\n",
       "34. 'MX1'\n",
       "35. 'MX2'\n",
       "36. 'NOS2'\n",
       "37. 'NPAS2'\n",
       "38. 'OAS1'\n",
       "39. 'OAS2'\n",
       "40. 'OAS3'\n",
       "41. 'OASL'\n",
       "42. 'P2RY6'\n",
       "43. 'PARP12'\n",
       "44. 'PLSCR1'\n",
       "45. 'RNF213'\n",
       "46. 'RSAD2'\n",
       "47. 'SERPINE1'\n",
       "48. 'SLC15A3'\n",
       "49. 'SP110'\n",
       "50. 'STEAP4'\n",
       "51. 'TNFAIP3'\n",
       "52. 'TNFSF10'\n",
       "53. 'USP18'\n",
       "\n",
       "\n"
      ],
      "text/plain": [
       " [1] \"APOBEC3G\" \"APOL1\"    \"APOL6\"    \"ATF3\"     \"BST2\"     \"CSRNP1\"  \n",
       " [7] \"DDIT4\"    \"DDX60\"    \"DTX3L\"    \"EPSTI1\"   \"FUT4\"     \"GBP3\"    \n",
       "[13] \"GEM\"      \"HEG1\"     \"HELZ2\"    \"HSH2D\"    \"IFI35\"    \"IFIH1\"   \n",
       "[19] \"IFIT1\"    \"IFIT2\"    \"IFIT3\"    \"IFITM1\"   \"IFNLR1\"   \"IL15\"    \n",
       "[25] \"IRF1\"     \"IRF2\"     \"ISG15\"    \"ISG20\"    \"JUNB\"     \"LAMP3\"   \n",
       "[31] \"MAFF\"     \"MAP3K14\"  \"MARCKS\"   \"MX1\"      \"MX2\"      \"NOS2\"    \n",
       "[37] \"NPAS2\"    \"OAS1\"     \"OAS2\"     \"OAS3\"     \"OASL\"     \"P2RY6\"   \n",
       "[43] \"PARP12\"   \"PLSCR1\"   \"RNF213\"   \"RSAD2\"    \"SERPINE1\" \"SLC15A3\" \n",
       "[49] \"SP110\"    \"STEAP4\"   \"TNFAIP3\"  \"TNFSF10\"  \"USP18\"   "
      ]
     },
     "metadata": {},
     "output_type": "display_data"
    }
   ],
   "source": [
    "selectlist <- read.csv('filtered_list.csv',header = F)$V1\n",
    "\n",
    "for (i in analysis_samples){\n",
    "  \n",
    "  res_new = results(dds_new, contrast=c(\"condition\", i, control))\n",
    "  res_new_TS = res_new[order(res_new$pvalue),]\n",
    "  \n",
    "  #select genes with padj<0.05, foldchange>1 and baseMean >100\n",
    "  diff_gene_deseq2 <-subset(res_new_TS, padj < 0.05 & abs(log2FoldChange) > 2 & baseMean>100)\n",
    "}\n",
    "\n",
    "plotMatrix_merge_TS <- diff_gene_deseq2[na.omit(match(selectlist,rownames(diff_gene_deseq2))),]\n",
    "\n",
    "rownames(plotMatrix_merge_TS)\n"
   ]
  },
  {
   "cell_type": "code",
   "execution_count": 8,
   "metadata": {},
   "outputs": [],
   "source": [
    "control <- 'STM'\n",
    "analysis_samples <- c(\"ST48\")"
   ]
  },
  {
   "cell_type": "code",
   "execution_count": 9,
   "metadata": {},
   "outputs": [
    {
     "data": {
      "text/html": [
       "<style>\n",
       ".list-inline {list-style: none; margin:0; padding: 0}\n",
       ".list-inline>li {display: inline-block}\n",
       ".list-inline>li:not(:last-child)::after {content: \"\\00b7\"; padding: 0 .5ex}\n",
       "</style>\n",
       "<ol class=list-inline><li>'APOL1'</li><li>'APOL2'</li><li>'APOL6'</li><li>'BST2'</li><li>'CEACAM1'</li><li>'CYP1B1'</li><li>'DDX60'</li><li>'DTX3L'</li><li>'EIF2AK2'</li><li>'EPSTI1'</li><li>'FLT1'</li><li>'HELZ2'</li><li>'HERC6'</li><li>'IFIH1'</li><li>'IFIT1'</li><li>'IFIT2'</li><li>'IFIT3'</li><li>'IFIT5'</li><li>'IFITM1'</li><li>'IRF1'</li><li>'ISG15'</li><li>'MX1'</li><li>'OAS1'</li><li>'OAS2'</li><li>'OAS3'</li><li>'OASL'</li><li>'PARP12'</li><li>'PLSCR1'</li><li>'SP110'</li><li>'STAT1'</li><li>'USP18'</li><li>'ZC3HAV1'</li></ol>\n"
      ],
      "text/latex": [
       "\\begin{enumerate*}\n",
       "\\item 'APOL1'\n",
       "\\item 'APOL2'\n",
       "\\item 'APOL6'\n",
       "\\item 'BST2'\n",
       "\\item 'CEACAM1'\n",
       "\\item 'CYP1B1'\n",
       "\\item 'DDX60'\n",
       "\\item 'DTX3L'\n",
       "\\item 'EIF2AK2'\n",
       "\\item 'EPSTI1'\n",
       "\\item 'FLT1'\n",
       "\\item 'HELZ2'\n",
       "\\item 'HERC6'\n",
       "\\item 'IFIH1'\n",
       "\\item 'IFIT1'\n",
       "\\item 'IFIT2'\n",
       "\\item 'IFIT3'\n",
       "\\item 'IFIT5'\n",
       "\\item 'IFITM1'\n",
       "\\item 'IRF1'\n",
       "\\item 'ISG15'\n",
       "\\item 'MX1'\n",
       "\\item 'OAS1'\n",
       "\\item 'OAS2'\n",
       "\\item 'OAS3'\n",
       "\\item 'OASL'\n",
       "\\item 'PARP12'\n",
       "\\item 'PLSCR1'\n",
       "\\item 'SP110'\n",
       "\\item 'STAT1'\n",
       "\\item 'USP18'\n",
       "\\item 'ZC3HAV1'\n",
       "\\end{enumerate*}\n"
      ],
      "text/markdown": [
       "1. 'APOL1'\n",
       "2. 'APOL2'\n",
       "3. 'APOL6'\n",
       "4. 'BST2'\n",
       "5. 'CEACAM1'\n",
       "6. 'CYP1B1'\n",
       "7. 'DDX60'\n",
       "8. 'DTX3L'\n",
       "9. 'EIF2AK2'\n",
       "10. 'EPSTI1'\n",
       "11. 'FLT1'\n",
       "12. 'HELZ2'\n",
       "13. 'HERC6'\n",
       "14. 'IFIH1'\n",
       "15. 'IFIT1'\n",
       "16. 'IFIT2'\n",
       "17. 'IFIT3'\n",
       "18. 'IFIT5'\n",
       "19. 'IFITM1'\n",
       "20. 'IRF1'\n",
       "21. 'ISG15'\n",
       "22. 'MX1'\n",
       "23. 'OAS1'\n",
       "24. 'OAS2'\n",
       "25. 'OAS3'\n",
       "26. 'OASL'\n",
       "27. 'PARP12'\n",
       "28. 'PLSCR1'\n",
       "29. 'SP110'\n",
       "30. 'STAT1'\n",
       "31. 'USP18'\n",
       "32. 'ZC3HAV1'\n",
       "\n",
       "\n"
      ],
      "text/plain": [
       " [1] \"APOL1\"   \"APOL2\"   \"APOL6\"   \"BST2\"    \"CEACAM1\" \"CYP1B1\"  \"DDX60\"  \n",
       " [8] \"DTX3L\"   \"EIF2AK2\" \"EPSTI1\"  \"FLT1\"    \"HELZ2\"   \"HERC6\"   \"IFIH1\"  \n",
       "[15] \"IFIT1\"   \"IFIT2\"   \"IFIT3\"   \"IFIT5\"   \"IFITM1\"  \"IRF1\"    \"ISG15\"  \n",
       "[22] \"MX1\"     \"OAS1\"    \"OAS2\"    \"OAS3\"    \"OASL\"    \"PARP12\"  \"PLSCR1\" \n",
       "[29] \"SP110\"   \"STAT1\"   \"USP18\"   \"ZC3HAV1\""
      ]
     },
     "metadata": {},
     "output_type": "display_data"
    }
   ],
   "source": [
    "for (i in analysis_samples){\n",
    "  \n",
    "  res_new = results(dds_new, contrast=c(\"condition\", i, control))\n",
    "  res_new_STB = res_new[order(res_new$pvalue),]\n",
    "  \n",
    "  #select genes with padj<0.05, foldchange>1 and baseMean >100\n",
    "  diff_gene_deseq2 <-subset(res_new_STB, padj < 0.05 & abs(log2FoldChange) > 1 & baseMean>100)\n",
    "}\n",
    "\n",
    "plotMatrix_merge_STB <- diff_gene_deseq2[na.omit(match(selectlist,rownames(diff_gene_deseq2))),]\n",
    "\n",
    "rownames(plotMatrix_merge_STB)"
   ]
  },
  {
   "cell_type": "code",
   "execution_count": 10,
   "metadata": {},
   "outputs": [],
   "source": [
    "control <- 'EVTM'\n",
    "analysis_samples <- c(\"EVTV48\")"
   ]
  },
  {
   "cell_type": "code",
   "execution_count": 11,
   "metadata": {},
   "outputs": [
    {
     "data": {
      "text/html": [
       "<style>\n",
       ".list-inline {list-style: none; margin:0; padding: 0}\n",
       ".list-inline>li {display: inline-block}\n",
       ".list-inline>li:not(:last-child)::after {content: \"\\00b7\"; padding: 0 .5ex}\n",
       "</style>\n",
       "<ol class=list-inline><li>'EPSTI1'</li><li>'IFIH1'</li><li>'IFIT1'</li><li>'IFIT2'</li><li>'IFIT3'</li><li>'MX1'</li><li>'OAS1'</li><li>'OAS2'</li><li>'OASL'</li></ol>\n"
      ],
      "text/latex": [
       "\\begin{enumerate*}\n",
       "\\item 'EPSTI1'\n",
       "\\item 'IFIH1'\n",
       "\\item 'IFIT1'\n",
       "\\item 'IFIT2'\n",
       "\\item 'IFIT3'\n",
       "\\item 'MX1'\n",
       "\\item 'OAS1'\n",
       "\\item 'OAS2'\n",
       "\\item 'OASL'\n",
       "\\end{enumerate*}\n"
      ],
      "text/markdown": [
       "1. 'EPSTI1'\n",
       "2. 'IFIH1'\n",
       "3. 'IFIT1'\n",
       "4. 'IFIT2'\n",
       "5. 'IFIT3'\n",
       "6. 'MX1'\n",
       "7. 'OAS1'\n",
       "8. 'OAS2'\n",
       "9. 'OASL'\n",
       "\n",
       "\n"
      ],
      "text/plain": [
       "[1] \"EPSTI1\" \"IFIH1\"  \"IFIT1\"  \"IFIT2\"  \"IFIT3\"  \"MX1\"    \"OAS1\"   \"OAS2\"  \n",
       "[9] \"OASL\"  "
      ]
     },
     "metadata": {},
     "output_type": "display_data"
    }
   ],
   "source": [
    "for (i in analysis_samples){\n",
    "  \n",
    "  res_new = results(dds_new, contrast=c(\"condition\", i, control))\n",
    "  res_new_EVT = res_new[order(res_new$pvalue),]\n",
    "  \n",
    "  #select genes with padj<0.05, foldchange>1 and baseMean >100\n",
    "  diff_gene_deseq2 <-subset(res_new_EVT, padj < 0.05 & abs(log2FoldChange) > 1 & baseMean>100)\n",
    "}\n",
    "\n",
    "plotMatrix_merge_EVT <- diff_gene_deseq2[na.omit(match(selectlist,rownames(diff_gene_deseq2))),]\n",
    "\n",
    "rownames(plotMatrix_merge_EVT)"
   ]
  },
  {
   "cell_type": "code",
   "execution_count": 12,
   "metadata": {},
   "outputs": [
    {
     "data": {
      "image/png": "[encoded data removed]",
      "text/plain": [
       "plot without title"
      ]
     },
     "metadata": {
      "image/png": {
       "height": 420,
       "width": 420
      }
     },
     "output_type": "display_data"
    }
   ],
   "source": [
    "TSgene <- rownames(plotMatrix_merge_TS)\n",
    "STBgene <- rownames(plotMatrix_merge_STB)\n",
    "EVTgene <- rownames(plotMatrix_merge_EVT)\n",
    "\n",
    "plotList_infection <- list(\"hTSCs\"=TSgene,\"STBTS\"=STBgene,\"EVTTS\"=EVTgene)\n",
    "p <- ggVennDiagram(plotList_infection,label = c('both'))\n",
    "p"
   ]
  },
  {
   "cell_type": "code",
   "execution_count": 13,
   "metadata": {
    "scrolled": true
   },
   "outputs": [],
   "source": [
    "expList <- read.csv('ISG_list.csv',header = F)$V1\n",
    "\n",
    "TSExp <- res_new_TS[rownames(res_new_TS)%in%expList,]\n",
    "TSFoldChange <- subset(TSExp,select=log2FoldChange)\n",
    "TSFoldChange$Name <- rownames(TSFoldChange)\n",
    "STBExp <- res_new_STB[rownames(res_new_STB)%in%expList,]\n",
    "STBFoldChange <- subset(STBExp,select=log2FoldChange)\n",
    "STBFoldChange$Name <- rownames(STBFoldChange)\n",
    "EVTExp <- res_new_EVT[rownames(res_new_EVT)%in%expList,]\n",
    "EVTFoldChange <- subset(EVTExp,select=log2FoldChange)\n",
    "EVTFoldChange$Name <- rownames(EVTFoldChange)\n",
    "\n",
    "plotfoldChange <- merge(merge(as.data.frame(TSFoldChange),as.data.frame(STBFoldChange),by='Name'),as.data.frame(EVTFoldChange),by='Name')\n",
    "rownames(plotfoldChange) <- plotfoldChange$Name\n",
    "plotfoldChange <- plotfoldChange[,-1]\n",
    "\n",
    "\n",
    "sorted_indices <- match(expList,rownames(plotfoldChange))\n",
    "plotfoldChange <- plotfoldChange[sorted_indices, ]\n",
    "colnames(plotfoldChange) <- c('hTSCs','STBTS','EVTTS')\n",
    "\n",
    "# p <- pheatmap(plotMatrix_foldChange_test, scale = 'none',show_rownames = T,cluster_cols = F, cluster_rows = F, color = colorRampPalette(c(\"Navy\", \"white\", \"Firebrick3\"),bias = 3)(50))"
   ]
  },
  {
   "cell_type": "code",
   "execution_count": 14,
   "metadata": {},
   "outputs": [
    {
     "data": {
      "text/html": [
       "<table class=\"dataframe\">\n",
       "<caption>A data.frame: 35 × 3</caption>\n",
       "<thead>\n",
       "\t<tr><th></th><th scope=col>hTSCs</th><th scope=col>STBTS</th><th scope=col>EVTTS</th></tr>\n",
       "\t<tr><th></th><th scope=col>&lt;dbl&gt;</th><th scope=col>&lt;dbl&gt;</th><th scope=col>&lt;dbl&gt;</th></tr>\n",
       "</thead>\n",
       "<tbody>\n",
       "\t<tr><th scope=row>IFIT1</th><td> 4.2837745</td><td> 7.312028e+00</td><td> 3.35703003</td></tr>\n",
       "\t<tr><th scope=row>IFIT2</th><td> 7.7958499</td><td> 1.031015e+01</td><td> 3.38018413</td></tr>\n",
       "\t<tr><th scope=row>IFIT3</th><td> 6.5382469</td><td> 7.148437e+00</td><td> 4.48299288</td></tr>\n",
       "\t<tr><th scope=row>EPSTI1</th><td> 3.5617667</td><td> 1.473395e+00</td><td> 1.67927876</td></tr>\n",
       "\t<tr><th scope=row>MX1</th><td> 6.7689577</td><td> 3.462158e+00</td><td> 2.63517971</td></tr>\n",
       "\t<tr><th scope=row>IFIH1</th><td> 4.2437461</td><td> 5.349154e+00</td><td> 1.51910253</td></tr>\n",
       "\t<tr><th scope=row>OAS1</th><td> 5.3903321</td><td> 4.858468e+00</td><td> 2.76155308</td></tr>\n",
       "\t<tr><th scope=row>OAS2</th><td> 8.3535573</td><td> 6.361370e+00</td><td> 8.06095607</td></tr>\n",
       "\t<tr><th scope=row>OAS3</th><td> 6.1647727</td><td> 3.614671e+00</td><td> 0.72601619</td></tr>\n",
       "\t<tr><th scope=row>APOL1</th><td> 2.8682044</td><td> 2.736953e+00</td><td> 0.07565488</td></tr>\n",
       "\t<tr><th scope=row>APOL6</th><td> 2.0728014</td><td> 3.520397e+00</td><td> 0.10107177</td></tr>\n",
       "\t<tr><th scope=row>ISG15</th><td> 2.8871334</td><td> 1.420250e+00</td><td> 0.85182172</td></tr>\n",
       "\t<tr><th scope=row>IFI27</th><td> 7.5257177</td><td> 4.905946e+00</td><td>-4.11877808</td></tr>\n",
       "\t<tr><th scope=row>PARP12</th><td> 3.6889434</td><td> 1.715776e+00</td><td> 0.50943705</td></tr>\n",
       "\t<tr><th scope=row>OASL</th><td> 7.7417495</td><td> 1.044726e+01</td><td> 8.76266967</td></tr>\n",
       "\t<tr><th scope=row>EIF2AK2</th><td> 1.5918395</td><td> 1.206917e+00</td><td> 0.14077210</td></tr>\n",
       "\t<tr><th scope=row>HELZ2</th><td> 2.2294690</td><td> 1.405638e+00</td><td> 0.48103184</td></tr>\n",
       "\t<tr><th scope=row>BST2</th><td> 3.6426212</td><td> 1.380666e+00</td><td> 0.13967847</td></tr>\n",
       "\t<tr><th scope=row>USP18</th><td> 2.8484992</td><td> 1.221407e+00</td><td> 0.58800064</td></tr>\n",
       "\t<tr><th scope=row>IRF7</th><td> 6.0485894</td><td> 2.802613e-01</td><td>-0.39428441</td></tr>\n",
       "\t<tr><th scope=row>IFITM1</th><td> 3.7153426</td><td> 1.105446e+00</td><td> 0.30612751</td></tr>\n",
       "\t<tr><th scope=row>IFITM2</th><td>-0.0958015</td><td>-3.003253e-01</td><td> 1.13016806</td></tr>\n",
       "\t<tr><th scope=row>IFITM3</th><td> 1.0149325</td><td> 7.916768e-01</td><td> 0.15242602</td></tr>\n",
       "\t<tr><th scope=row>SLC15A3</th><td> 4.0405386</td><td> 1.078906e+00</td><td> 0.62458397</td></tr>\n",
       "\t<tr><th scope=row>IL15RA</th><td> 3.5551350</td><td> 3.528566e-01</td><td> 0.88749962</td></tr>\n",
       "\t<tr><th scope=row>BATF2</th><td> 5.6101704</td><td> 2.489753e+00</td><td> 6.10993031</td></tr>\n",
       "\t<tr><th scope=row>ISG20</th><td> 2.5302321</td><td> 7.240536e-01</td><td> 0.23529052</td></tr>\n",
       "\t<tr><th scope=row>FCGR1A</th><td> 4.9143068</td><td>-1.039399e-01</td><td>-0.42393669</td></tr>\n",
       "\t<tr><th scope=row>MAP3K14</th><td> 2.3344618</td><td> 3.928567e-01</td><td>-0.64010518</td></tr>\n",
       "\t<tr><th scope=row>ETV7</th><td> 1.9026822</td><td> 3.491561e-01</td><td> 0.36717670</td></tr>\n",
       "\t<tr><th scope=row>IFNLR1</th><td> 2.9597924</td><td> 5.237518e-05</td><td> 0.04762317</td></tr>\n",
       "\t<tr><th scope=row>RSAD2</th><td> 3.2468978</td><td> 3.539896e-01</td><td> 0.19101233</td></tr>\n",
       "\t<tr><th scope=row>IFI35</th><td> 3.7016373</td><td> 8.478737e-01</td><td> 0.17479590</td></tr>\n",
       "\t<tr><th scope=row>TRIM25</th><td> 1.9785464</td><td> 6.791389e-01</td><td> 0.36502066</td></tr>\n",
       "\t<tr><th scope=row>TNFAIP3</th><td> 2.4128101</td><td> 3.828170e-01</td><td>-0.03920535</td></tr>\n",
       "</tbody>\n",
       "</table>\n"
      ],
      "text/latex": [
       "A data.frame: 35 × 3\n",
       "\\begin{tabular}{r|lll}\n",
       "  & hTSCs & STBTS & EVTTS\\\\\n",
       "  & <dbl> & <dbl> & <dbl>\\\\\n",
       "\\hline\n",
       "\tIFIT1 &  4.2837745 &  7.312028e+00 &  3.35703003\\\\\n",
       "\tIFIT2 &  7.7958499 &  1.031015e+01 &  3.38018413\\\\\n",
       "\tIFIT3 &  6.5382469 &  7.148437e+00 &  4.48299288\\\\\n",
       "\tEPSTI1 &  3.5617667 &  1.473395e+00 &  1.67927876\\\\\n",
       "\tMX1 &  6.7689577 &  3.462158e+00 &  2.63517971\\\\\n",
       "\tIFIH1 &  4.2437461 &  5.349154e+00 &  1.51910253\\\\\n",
       "\tOAS1 &  5.3903321 &  4.858468e+00 &  2.76155308\\\\\n",
       "\tOAS2 &  8.3535573 &  6.361370e+00 &  8.06095607\\\\\n",
       "\tOAS3 &  6.1647727 &  3.614671e+00 &  0.72601619\\\\\n",
       "\tAPOL1 &  2.8682044 &  2.736953e+00 &  0.07565488\\\\\n",
       "\tAPOL6 &  2.0728014 &  3.520397e+00 &  0.10107177\\\\\n",
       "\tISG15 &  2.8871334 &  1.420250e+00 &  0.85182172\\\\\n",
       "\tIFI27 &  7.5257177 &  4.905946e+00 & -4.11877808\\\\\n",
       "\tPARP12 &  3.6889434 &  1.715776e+00 &  0.50943705\\\\\n",
       "\tOASL &  7.7417495 &  1.044726e+01 &  8.76266967\\\\\n",
       "\tEIF2AK2 &  1.5918395 &  1.206917e+00 &  0.14077210\\\\\n",
       "\tHELZ2 &  2.2294690 &  1.405638e+00 &  0.48103184\\\\\n",
       "\tBST2 &  3.6426212 &  1.380666e+00 &  0.13967847\\\\\n",
       "\tUSP18 &  2.8484992 &  1.221407e+00 &  0.58800064\\\\\n",
       "\tIRF7 &  6.0485894 &  2.802613e-01 & -0.39428441\\\\\n",
       "\tIFITM1 &  3.7153426 &  1.105446e+00 &  0.30612751\\\\\n",
       "\tIFITM2 & -0.0958015 & -3.003253e-01 &  1.13016806\\\\\n",
       "\tIFITM3 &  1.0149325 &  7.916768e-01 &  0.15242602\\\\\n",
       "\tSLC15A3 &  4.0405386 &  1.078906e+00 &  0.62458397\\\\\n",
       "\tIL15RA &  3.5551350 &  3.528566e-01 &  0.88749962\\\\\n",
       "\tBATF2 &  5.6101704 &  2.489753e+00 &  6.10993031\\\\\n",
       "\tISG20 &  2.5302321 &  7.240536e-01 &  0.23529052\\\\\n",
       "\tFCGR1A &  4.9143068 & -1.039399e-01 & -0.42393669\\\\\n",
       "\tMAP3K14 &  2.3344618 &  3.928567e-01 & -0.64010518\\\\\n",
       "\tETV7 &  1.9026822 &  3.491561e-01 &  0.36717670\\\\\n",
       "\tIFNLR1 &  2.9597924 &  5.237518e-05 &  0.04762317\\\\\n",
       "\tRSAD2 &  3.2468978 &  3.539896e-01 &  0.19101233\\\\\n",
       "\tIFI35 &  3.7016373 &  8.478737e-01 &  0.17479590\\\\\n",
       "\tTRIM25 &  1.9785464 &  6.791389e-01 &  0.36502066\\\\\n",
       "\tTNFAIP3 &  2.4128101 &  3.828170e-01 & -0.03920535\\\\\n",
       "\\end{tabular}\n"
      ],
      "text/markdown": [
       "\n",
       "A data.frame: 35 × 3\n",
       "\n",
       "| <!--/--> | hTSCs &lt;dbl&gt; | STBTS &lt;dbl&gt; | EVTTS &lt;dbl&gt; |\n",
       "|---|---|---|---|\n",
       "| IFIT1 |  4.2837745 |  7.312028e+00 |  3.35703003 |\n",
       "| IFIT2 |  7.7958499 |  1.031015e+01 |  3.38018413 |\n",
       "| IFIT3 |  6.5382469 |  7.148437e+00 |  4.48299288 |\n",
       "| EPSTI1 |  3.5617667 |  1.473395e+00 |  1.67927876 |\n",
       "| MX1 |  6.7689577 |  3.462158e+00 |  2.63517971 |\n",
       "| IFIH1 |  4.2437461 |  5.349154e+00 |  1.51910253 |\n",
       "| OAS1 |  5.3903321 |  4.858468e+00 |  2.76155308 |\n",
       "| OAS2 |  8.3535573 |  6.361370e+00 |  8.06095607 |\n",
       "| OAS3 |  6.1647727 |  3.614671e+00 |  0.72601619 |\n",
       "| APOL1 |  2.8682044 |  2.736953e+00 |  0.07565488 |\n",
       "| APOL6 |  2.0728014 |  3.520397e+00 |  0.10107177 |\n",
       "| ISG15 |  2.8871334 |  1.420250e+00 |  0.85182172 |\n",
       "| IFI27 |  7.5257177 |  4.905946e+00 | -4.11877808 |\n",
       "| PARP12 |  3.6889434 |  1.715776e+00 |  0.50943705 |\n",
       "| OASL |  7.7417495 |  1.044726e+01 |  8.76266967 |\n",
       "| EIF2AK2 |  1.5918395 |  1.206917e+00 |  0.14077210 |\n",
       "| HELZ2 |  2.2294690 |  1.405638e+00 |  0.48103184 |\n",
       "| BST2 |  3.6426212 |  1.380666e+00 |  0.13967847 |\n",
       "| USP18 |  2.8484992 |  1.221407e+00 |  0.58800064 |\n",
       "| IRF7 |  6.0485894 |  2.802613e-01 | -0.39428441 |\n",
       "| IFITM1 |  3.7153426 |  1.105446e+00 |  0.30612751 |\n",
       "| IFITM2 | -0.0958015 | -3.003253e-01 |  1.13016806 |\n",
       "| IFITM3 |  1.0149325 |  7.916768e-01 |  0.15242602 |\n",
       "| SLC15A3 |  4.0405386 |  1.078906e+00 |  0.62458397 |\n",
       "| IL15RA |  3.5551350 |  3.528566e-01 |  0.88749962 |\n",
       "| BATF2 |  5.6101704 |  2.489753e+00 |  6.10993031 |\n",
       "| ISG20 |  2.5302321 |  7.240536e-01 |  0.23529052 |\n",
       "| FCGR1A |  4.9143068 | -1.039399e-01 | -0.42393669 |\n",
       "| MAP3K14 |  2.3344618 |  3.928567e-01 | -0.64010518 |\n",
       "| ETV7 |  1.9026822 |  3.491561e-01 |  0.36717670 |\n",
       "| IFNLR1 |  2.9597924 |  5.237518e-05 |  0.04762317 |\n",
       "| RSAD2 |  3.2468978 |  3.539896e-01 |  0.19101233 |\n",
       "| IFI35 |  3.7016373 |  8.478737e-01 |  0.17479590 |\n",
       "| TRIM25 |  1.9785464 |  6.791389e-01 |  0.36502066 |\n",
       "| TNFAIP3 |  2.4128101 |  3.828170e-01 | -0.03920535 |\n",
       "\n"
      ],
      "text/plain": [
       "        hTSCs      STBTS         EVTTS      \n",
       "IFIT1    4.2837745  7.312028e+00  3.35703003\n",
       "IFIT2    7.7958499  1.031015e+01  3.38018413\n",
       "IFIT3    6.5382469  7.148437e+00  4.48299288\n",
       "EPSTI1   3.5617667  1.473395e+00  1.67927876\n",
       "MX1      6.7689577  3.462158e+00  2.63517971\n",
       "IFIH1    4.2437461  5.349154e+00  1.51910253\n",
       "OAS1     5.3903321  4.858468e+00  2.76155308\n",
       "OAS2     8.3535573  6.361370e+00  8.06095607\n",
       "OAS3     6.1647727  3.614671e+00  0.72601619\n",
       "APOL1    2.8682044  2.736953e+00  0.07565488\n",
       "APOL6    2.0728014  3.520397e+00  0.10107177\n",
       "ISG15    2.8871334  1.420250e+00  0.85182172\n",
       "IFI27    7.5257177  4.905946e+00 -4.11877808\n",
       "PARP12   3.6889434  1.715776e+00  0.50943705\n",
       "OASL     7.7417495  1.044726e+01  8.76266967\n",
       "EIF2AK2  1.5918395  1.206917e+00  0.14077210\n",
       "HELZ2    2.2294690  1.405638e+00  0.48103184\n",
       "BST2     3.6426212  1.380666e+00  0.13967847\n",
       "USP18    2.8484992  1.221407e+00  0.58800064\n",
       "IRF7     6.0485894  2.802613e-01 -0.39428441\n",
       "IFITM1   3.7153426  1.105446e+00  0.30612751\n",
       "IFITM2  -0.0958015 -3.003253e-01  1.13016806\n",
       "IFITM3   1.0149325  7.916768e-01  0.15242602\n",
       "SLC15A3  4.0405386  1.078906e+00  0.62458397\n",
       "IL15RA   3.5551350  3.528566e-01  0.88749962\n",
       "BATF2    5.6101704  2.489753e+00  6.10993031\n",
       "ISG20    2.5302321  7.240536e-01  0.23529052\n",
       "FCGR1A   4.9143068 -1.039399e-01 -0.42393669\n",
       "MAP3K14  2.3344618  3.928567e-01 -0.64010518\n",
       "ETV7     1.9026822  3.491561e-01  0.36717670\n",
       "IFNLR1   2.9597924  5.237518e-05  0.04762317\n",
       "RSAD2    3.2468978  3.539896e-01  0.19101233\n",
       "IFI35    3.7016373  8.478737e-01  0.17479590\n",
       "TRIM25   1.9785464  6.791389e-01  0.36502066\n",
       "TNFAIP3  2.4128101  3.828170e-01 -0.03920535"
      ]
     },
     "metadata": {},
     "output_type": "display_data"
    }
   ],
   "source": [
    "plotfoldChange"
   ]
  },
  {
   "cell_type": "code",
   "execution_count": 15,
   "metadata": {},
   "outputs": [
    {
     "data": {
      "image/png": "[encoded data removed]",
      "text/plain": [
       "plot without title"
      ]
     },
     "metadata": {
      "image/png": {
       "height": 420,
       "width": 420
      }
     },
     "output_type": "display_data"
    }
   ],
   "source": [
    "p <- pheatmap(plotfoldChange, scale = 'none',show_rownames = T,cluster_cols = F, cluster_rows = F, color = colorRampPalette(c(\"Navy\", \"white\", \"Firebrick3\"),bias = 1.5)(50))"
   ]
  },
  {
   "cell_type": "code",
   "execution_count": 16,
   "metadata": {},
   "outputs": [],
   "source": [
    "ggsave(filename = 'Figure2F_update.pdf',plot = p,width = 3,height=8)"
   ]
  },
  {
   "cell_type": "markdown",
   "metadata": {},
   "source": [
    "## Comparision of previous results and current results"
   ]
  },
  {
   "cell_type": "code",
   "execution_count": 17,
   "metadata": {
    "scrolled": true
   },
   "outputs": [
    {
     "data": {
      "image/png": "[encoded data removed]",
      "text/plain": [
       "plot without title"
      ]
     },
     "metadata": {
      "image/png": {
       "height": 420,
       "width": 420
      }
     },
     "output_type": "display_data"
    }
   ],
   "source": [
    "TSgene_pre <- read.csv('TS_foldChange4.csv',header = T)$X\n",
    "STBgene_pre <- read.csv('STB_foldChange2.csv',header = T)$X\n",
    "EVTgene_pre <- read.csv('EVT_foldChange2.csv',header = T)$X\n",
    "\n",
    "plotList_infection_pre <- list(\"hTSCs\"=TSgene_pre,\"STBTS\"=STBgene_pre,\"EVTTS\"=EVTgene_pre)\n",
    "p_pre <- ggVennDiagram(plotList_infection_pre,label = c('both'))\n",
    "p_pre\n"
   ]
  },
  {
   "cell_type": "code",
   "execution_count": 18,
   "metadata": {},
   "outputs": [],
   "source": [
    "intersectAll_infection <- intersect(intersect(TSgene,STBgene),EVTgene)\n",
    "intersectSTBEVT_infection <- intersect(STBgene,EVTgene)\n",
    "intersectTSEVT_infection <- intersect(TSgene,EVTgene)\n",
    "intersectTSSTB_infection <- intersect(TSgene,STBgene)"
   ]
  },
  {
   "cell_type": "code",
   "execution_count": 19,
   "metadata": {},
   "outputs": [],
   "source": [
    "intersectAll_infection_pre <- intersect(intersect(TSgene_pre,STBgene_pre),EVTgene_pre)\n",
    "intersectSTBEVT_infection_pre <- intersect(STBgene_pre,EVTgene_pre)\n",
    "intersectTSEVT_infection_pre <- intersect(TSgene_pre,EVTgene_pre)\n",
    "intersectTSSTB_infection_pre <- intersect(TSgene_pre,STBgene_pre)"
   ]
  },
  {
   "cell_type": "code",
   "execution_count": 20,
   "metadata": {},
   "outputs": [
    {
     "data": {
      "text/html": [
       "<style>\n",
       ".list-inline {list-style: none; margin:0; padding: 0}\n",
       ".list-inline>li {display: inline-block}\n",
       ".list-inline>li:not(:last-child)::after {content: \"\\00b7\"; padding: 0 .5ex}\n",
       "</style>\n",
       "<ol class=list-inline><li>'EPSTI1'</li><li>'IFIH1'</li><li>'IFIT1'</li><li>'IFIT2'</li><li>'IFIT3'</li><li>'MX1'</li><li>'OAS1'</li><li>'OAS2'</li><li>'OASL'</li></ol>\n"
      ],
      "text/latex": [
       "\\begin{enumerate*}\n",
       "\\item 'EPSTI1'\n",
       "\\item 'IFIH1'\n",
       "\\item 'IFIT1'\n",
       "\\item 'IFIT2'\n",
       "\\item 'IFIT3'\n",
       "\\item 'MX1'\n",
       "\\item 'OAS1'\n",
       "\\item 'OAS2'\n",
       "\\item 'OASL'\n",
       "\\end{enumerate*}\n"
      ],
      "text/markdown": [
       "1. 'EPSTI1'\n",
       "2. 'IFIH1'\n",
       "3. 'IFIT1'\n",
       "4. 'IFIT2'\n",
       "5. 'IFIT3'\n",
       "6. 'MX1'\n",
       "7. 'OAS1'\n",
       "8. 'OAS2'\n",
       "9. 'OASL'\n",
       "\n",
       "\n"
      ],
      "text/plain": [
       "[1] \"EPSTI1\" \"IFIH1\"  \"IFIT1\"  \"IFIT2\"  \"IFIT3\"  \"MX1\"    \"OAS1\"   \"OAS2\"  \n",
       "[9] \"OASL\"  "
      ]
     },
     "metadata": {},
     "output_type": "display_data"
    }
   ],
   "source": [
    "intersectAll_infection"
   ]
  },
  {
   "cell_type": "code",
   "execution_count": 21,
   "metadata": {},
   "outputs": [
    {
     "data": {
      "text/html": [
       "<style>\n",
       ".list-inline {list-style: none; margin:0; padding: 0}\n",
       ".list-inline>li {display: inline-block}\n",
       ".list-inline>li:not(:last-child)::after {content: \"\\00b7\"; padding: 0 .5ex}\n",
       "</style>\n",
       "<ol class=list-inline><li>'IFIT3'</li><li>'MX1'</li><li>'IFIT2'</li><li>'IFIT1'</li><li>'IFIH1'</li></ol>\n"
      ],
      "text/latex": [
       "\\begin{enumerate*}\n",
       "\\item 'IFIT3'\n",
       "\\item 'MX1'\n",
       "\\item 'IFIT2'\n",
       "\\item 'IFIT1'\n",
       "\\item 'IFIH1'\n",
       "\\end{enumerate*}\n"
      ],
      "text/markdown": [
       "1. 'IFIT3'\n",
       "2. 'MX1'\n",
       "3. 'IFIT2'\n",
       "4. 'IFIT1'\n",
       "5. 'IFIH1'\n",
       "\n",
       "\n"
      ],
      "text/plain": [
       "[1] \"IFIT3\" \"MX1\"   \"IFIT2\" \"IFIT1\" \"IFIH1\""
      ]
     },
     "metadata": {},
     "output_type": "display_data"
    }
   ],
   "source": [
    "intersectAll_infection_pre"
   ]
  },
  {
   "cell_type": "code",
   "execution_count": 22,
   "metadata": {},
   "outputs": [
    {
     "data": {
      "text/html": [
       "<style>\n",
       ".list-inline {list-style: none; margin:0; padding: 0}\n",
       ".list-inline>li {display: inline-block}\n",
       ".list-inline>li:not(:last-child)::after {content: \"\\00b7\"; padding: 0 .5ex}\n",
       "</style>\n",
       "<ol class=list-inline><li>'EPSTI1'</li><li>'IFIH1'</li><li>'IFIT1'</li><li>'IFIT2'</li><li>'IFIT3'</li><li>'MX1'</li><li>'OAS1'</li><li>'OAS2'</li><li>'OASL'</li></ol>\n"
      ],
      "text/latex": [
       "\\begin{enumerate*}\n",
       "\\item 'EPSTI1'\n",
       "\\item 'IFIH1'\n",
       "\\item 'IFIT1'\n",
       "\\item 'IFIT2'\n",
       "\\item 'IFIT3'\n",
       "\\item 'MX1'\n",
       "\\item 'OAS1'\n",
       "\\item 'OAS2'\n",
       "\\item 'OASL'\n",
       "\\end{enumerate*}\n"
      ],
      "text/markdown": [
       "1. 'EPSTI1'\n",
       "2. 'IFIH1'\n",
       "3. 'IFIT1'\n",
       "4. 'IFIT2'\n",
       "5. 'IFIT3'\n",
       "6. 'MX1'\n",
       "7. 'OAS1'\n",
       "8. 'OAS2'\n",
       "9. 'OASL'\n",
       "\n",
       "\n"
      ],
      "text/plain": [
       "[1] \"EPSTI1\" \"IFIH1\"  \"IFIT1\"  \"IFIT2\"  \"IFIT3\"  \"MX1\"    \"OAS1\"   \"OAS2\"  \n",
       "[9] \"OASL\"  "
      ]
     },
     "metadata": {},
     "output_type": "display_data"
    }
   ],
   "source": [
    "intersectSTBEVT_infection"
   ]
  },
  {
   "cell_type": "code",
   "execution_count": 23,
   "metadata": {},
   "outputs": [
    {
     "data": {
      "text/html": [
       "<style>\n",
       ".list-inline {list-style: none; margin:0; padding: 0}\n",
       ".list-inline>li {display: inline-block}\n",
       ".list-inline>li:not(:last-child)::after {content: \"\\00b7\"; padding: 0 .5ex}\n",
       "</style>\n",
       "<ol class=list-inline><li>'IFIT2'</li><li>'IFIH1'</li><li>'IFIT1'</li><li>'MX1'</li><li>'IFIT3'</li></ol>\n"
      ],
      "text/latex": [
       "\\begin{enumerate*}\n",
       "\\item 'IFIT2'\n",
       "\\item 'IFIH1'\n",
       "\\item 'IFIT1'\n",
       "\\item 'MX1'\n",
       "\\item 'IFIT3'\n",
       "\\end{enumerate*}\n"
      ],
      "text/markdown": [
       "1. 'IFIT2'\n",
       "2. 'IFIH1'\n",
       "3. 'IFIT1'\n",
       "4. 'MX1'\n",
       "5. 'IFIT3'\n",
       "\n",
       "\n"
      ],
      "text/plain": [
       "[1] \"IFIT2\" \"IFIH1\" \"IFIT1\" \"MX1\"   \"IFIT3\""
      ]
     },
     "metadata": {},
     "output_type": "display_data"
    }
   ],
   "source": [
    "intersectSTBEVT_infection_pre"
   ]
  },
  {
   "cell_type": "code",
   "execution_count": 24,
   "metadata": {},
   "outputs": [
    {
     "data": {
      "text/html": [
       "<style>\n",
       ".list-inline {list-style: none; margin:0; padding: 0}\n",
       ".list-inline>li {display: inline-block}\n",
       ".list-inline>li:not(:last-child)::after {content: \"\\00b7\"; padding: 0 .5ex}\n",
       "</style>\n",
       "<ol class=list-inline><li>'EPSTI1'</li><li>'IFIH1'</li><li>'IFIT1'</li><li>'IFIT2'</li><li>'IFIT3'</li><li>'MX1'</li><li>'OAS1'</li><li>'OAS2'</li><li>'OASL'</li></ol>\n"
      ],
      "text/latex": [
       "\\begin{enumerate*}\n",
       "\\item 'EPSTI1'\n",
       "\\item 'IFIH1'\n",
       "\\item 'IFIT1'\n",
       "\\item 'IFIT2'\n",
       "\\item 'IFIT3'\n",
       "\\item 'MX1'\n",
       "\\item 'OAS1'\n",
       "\\item 'OAS2'\n",
       "\\item 'OASL'\n",
       "\\end{enumerate*}\n"
      ],
      "text/markdown": [
       "1. 'EPSTI1'\n",
       "2. 'IFIH1'\n",
       "3. 'IFIT1'\n",
       "4. 'IFIT2'\n",
       "5. 'IFIT3'\n",
       "6. 'MX1'\n",
       "7. 'OAS1'\n",
       "8. 'OAS2'\n",
       "9. 'OASL'\n",
       "\n",
       "\n"
      ],
      "text/plain": [
       "[1] \"EPSTI1\" \"IFIH1\"  \"IFIT1\"  \"IFIT2\"  \"IFIT3\"  \"MX1\"    \"OAS1\"   \"OAS2\"  \n",
       "[9] \"OASL\"  "
      ]
     },
     "metadata": {},
     "output_type": "display_data"
    }
   ],
   "source": [
    "intersectTSEVT_infection"
   ]
  },
  {
   "cell_type": "code",
   "execution_count": 25,
   "metadata": {},
   "outputs": [
    {
     "data": {
      "text/html": [
       "<style>\n",
       ".list-inline {list-style: none; margin:0; padding: 0}\n",
       ".list-inline>li {display: inline-block}\n",
       ".list-inline>li:not(:last-child)::after {content: \"\\00b7\"; padding: 0 .5ex}\n",
       "</style>\n",
       "<ol class=list-inline><li>'IFIT3'</li><li>'MX1'</li><li>'IFIT2'</li><li>'IFIT1'</li><li>'EPSTI1'</li><li>'IFIH1'</li></ol>\n"
      ],
      "text/latex": [
       "\\begin{enumerate*}\n",
       "\\item 'IFIT3'\n",
       "\\item 'MX1'\n",
       "\\item 'IFIT2'\n",
       "\\item 'IFIT1'\n",
       "\\item 'EPSTI1'\n",
       "\\item 'IFIH1'\n",
       "\\end{enumerate*}\n"
      ],
      "text/markdown": [
       "1. 'IFIT3'\n",
       "2. 'MX1'\n",
       "3. 'IFIT2'\n",
       "4. 'IFIT1'\n",
       "5. 'EPSTI1'\n",
       "6. 'IFIH1'\n",
       "\n",
       "\n"
      ],
      "text/plain": [
       "[1] \"IFIT3\"  \"MX1\"    \"IFIT2\"  \"IFIT1\"  \"EPSTI1\" \"IFIH1\" "
      ]
     },
     "metadata": {},
     "output_type": "display_data"
    }
   ],
   "source": [
    "intersectTSEVT_infection_pre"
   ]
  },
  {
   "cell_type": "code",
   "execution_count": 26,
   "metadata": {},
   "outputs": [
    {
     "data": {
      "text/html": [
       "<style>\n",
       ".list-inline {list-style: none; margin:0; padding: 0}\n",
       ".list-inline>li {display: inline-block}\n",
       ".list-inline>li:not(:last-child)::after {content: \"\\00b7\"; padding: 0 .5ex}\n",
       "</style>\n",
       "<ol class=list-inline><li>'APOL1'</li><li>'APOL6'</li><li>'BST2'</li><li>'DDX60'</li><li>'DTX3L'</li><li>'EPSTI1'</li><li>'HELZ2'</li><li>'IFIH1'</li><li>'IFIT1'</li><li>'IFIT2'</li><li>'IFIT3'</li><li>'IFITM1'</li><li>'IRF1'</li><li>'ISG15'</li><li>'MX1'</li><li>'OAS1'</li><li>'OAS2'</li><li>'OAS3'</li><li>'OASL'</li><li>'PARP12'</li><li>'PLSCR1'</li><li>'SP110'</li><li>'USP18'</li></ol>\n"
      ],
      "text/latex": [
       "\\begin{enumerate*}\n",
       "\\item 'APOL1'\n",
       "\\item 'APOL6'\n",
       "\\item 'BST2'\n",
       "\\item 'DDX60'\n",
       "\\item 'DTX3L'\n",
       "\\item 'EPSTI1'\n",
       "\\item 'HELZ2'\n",
       "\\item 'IFIH1'\n",
       "\\item 'IFIT1'\n",
       "\\item 'IFIT2'\n",
       "\\item 'IFIT3'\n",
       "\\item 'IFITM1'\n",
       "\\item 'IRF1'\n",
       "\\item 'ISG15'\n",
       "\\item 'MX1'\n",
       "\\item 'OAS1'\n",
       "\\item 'OAS2'\n",
       "\\item 'OAS3'\n",
       "\\item 'OASL'\n",
       "\\item 'PARP12'\n",
       "\\item 'PLSCR1'\n",
       "\\item 'SP110'\n",
       "\\item 'USP18'\n",
       "\\end{enumerate*}\n"
      ],
      "text/markdown": [
       "1. 'APOL1'\n",
       "2. 'APOL6'\n",
       "3. 'BST2'\n",
       "4. 'DDX60'\n",
       "5. 'DTX3L'\n",
       "6. 'EPSTI1'\n",
       "7. 'HELZ2'\n",
       "8. 'IFIH1'\n",
       "9. 'IFIT1'\n",
       "10. 'IFIT2'\n",
       "11. 'IFIT3'\n",
       "12. 'IFITM1'\n",
       "13. 'IRF1'\n",
       "14. 'ISG15'\n",
       "15. 'MX1'\n",
       "16. 'OAS1'\n",
       "17. 'OAS2'\n",
       "18. 'OAS3'\n",
       "19. 'OASL'\n",
       "20. 'PARP12'\n",
       "21. 'PLSCR1'\n",
       "22. 'SP110'\n",
       "23. 'USP18'\n",
       "\n",
       "\n"
      ],
      "text/plain": [
       " [1] \"APOL1\"  \"APOL6\"  \"BST2\"   \"DDX60\"  \"DTX3L\"  \"EPSTI1\" \"HELZ2\"  \"IFIH1\" \n",
       " [9] \"IFIT1\"  \"IFIT2\"  \"IFIT3\"  \"IFITM1\" \"IRF1\"   \"ISG15\"  \"MX1\"    \"OAS1\"  \n",
       "[17] \"OAS2\"   \"OAS3\"   \"OASL\"   \"PARP12\" \"PLSCR1\" \"SP110\"  \"USP18\" "
      ]
     },
     "metadata": {},
     "output_type": "display_data"
    }
   ],
   "source": [
    "intersectTSSTB_infection"
   ]
  },
  {
   "cell_type": "code",
   "execution_count": 27,
   "metadata": {},
   "outputs": [
    {
     "data": {
      "text/html": [
       "<style>\n",
       ".list-inline {list-style: none; margin:0; padding: 0}\n",
       ".list-inline>li {display: inline-block}\n",
       ".list-inline>li:not(:last-child)::after {content: \"\\00b7\"; padding: 0 .5ex}\n",
       "</style>\n",
       "<ol class=list-inline><li>'DHX58'</li><li>'IFIT3'</li><li>'OAS2'</li><li>'OASL'</li><li>'APOL1'</li><li>'IFI27'</li><li>'MX1'</li><li>'OAS3'</li><li>'IFIT2'</li><li>'DDX60'</li><li>'OAS1'</li><li>'CCL5'</li><li>'IFIT1'</li><li>'APOL6'</li><li>'IFITM1'</li><li>'PARP12'</li><li>'ISG15'</li><li>'IFIH1'</li><li>'DTX3L'</li><li>'HELZ2'</li><li>'USP18'</li><li>'STAT1'</li><li>'EIF2AK2'</li><li>'PLSCR1'</li><li>'BST2'</li></ol>\n"
      ],
      "text/latex": [
       "\\begin{enumerate*}\n",
       "\\item 'DHX58'\n",
       "\\item 'IFIT3'\n",
       "\\item 'OAS2'\n",
       "\\item 'OASL'\n",
       "\\item 'APOL1'\n",
       "\\item 'IFI27'\n",
       "\\item 'MX1'\n",
       "\\item 'OAS3'\n",
       "\\item 'IFIT2'\n",
       "\\item 'DDX60'\n",
       "\\item 'OAS1'\n",
       "\\item 'CCL5'\n",
       "\\item 'IFIT1'\n",
       "\\item 'APOL6'\n",
       "\\item 'IFITM1'\n",
       "\\item 'PARP12'\n",
       "\\item 'ISG15'\n",
       "\\item 'IFIH1'\n",
       "\\item 'DTX3L'\n",
       "\\item 'HELZ2'\n",
       "\\item 'USP18'\n",
       "\\item 'STAT1'\n",
       "\\item 'EIF2AK2'\n",
       "\\item 'PLSCR1'\n",
       "\\item 'BST2'\n",
       "\\end{enumerate*}\n"
      ],
      "text/markdown": [
       "1. 'DHX58'\n",
       "2. 'IFIT3'\n",
       "3. 'OAS2'\n",
       "4. 'OASL'\n",
       "5. 'APOL1'\n",
       "6. 'IFI27'\n",
       "7. 'MX1'\n",
       "8. 'OAS3'\n",
       "9. 'IFIT2'\n",
       "10. 'DDX60'\n",
       "11. 'OAS1'\n",
       "12. 'CCL5'\n",
       "13. 'IFIT1'\n",
       "14. 'APOL6'\n",
       "15. 'IFITM1'\n",
       "16. 'PARP12'\n",
       "17. 'ISG15'\n",
       "18. 'IFIH1'\n",
       "19. 'DTX3L'\n",
       "20. 'HELZ2'\n",
       "21. 'USP18'\n",
       "22. 'STAT1'\n",
       "23. 'EIF2AK2'\n",
       "24. 'PLSCR1'\n",
       "25. 'BST2'\n",
       "\n",
       "\n"
      ],
      "text/plain": [
       " [1] \"DHX58\"   \"IFIT3\"   \"OAS2\"    \"OASL\"    \"APOL1\"   \"IFI27\"   \"MX1\"    \n",
       " [8] \"OAS3\"    \"IFIT2\"   \"DDX60\"   \"OAS1\"    \"CCL5\"    \"IFIT1\"   \"APOL6\"  \n",
       "[15] \"IFITM1\"  \"PARP12\"  \"ISG15\"   \"IFIH1\"   \"DTX3L\"   \"HELZ2\"   \"USP18\"  \n",
       "[22] \"STAT1\"   \"EIF2AK2\" \"PLSCR1\"  \"BST2\"   "
      ]
     },
     "metadata": {},
     "output_type": "display_data"
    }
   ],
   "source": [
    "intersectTSSTB_infection_pre"
   ]
  }
 ],
 "metadata": {
  "kernelspec": {
   "display_name": "R",
   "language": "R",
   "name": "ir"
  },
  "language_info": {
   "codemirror_mode": "r",
   "file_extension": ".r",
   "mimetype": "text/x-r-source",
   "name": "R",
   "pygments_lexer": "r",
   "version": "4.2.2"
  }
 },
 "nbformat": 4,
 "nbformat_minor": 4
}
